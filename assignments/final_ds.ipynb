{
 "cells": [
  {
   "cell_type": "code",
   "execution_count": 1,
   "id": "d2b6814c-d977-4e3d-a842-a4ceb47442e0",
   "metadata": {},
   "outputs": [],
   "source": [
    "import pandas as pd\n",
    "import numpy as np\n",
    "import seaborn as sns"
   ]
  },
  {
   "cell_type": "code",
   "execution_count": 2,
   "id": "63087e96-32e1-494f-8645-70bdf263926b",
   "metadata": {},
   "outputs": [],
   "source": [
    "dataset=pd.read_csv(\"Placement.csv\")"
   ]
  },
  {
   "cell_type": "code",
   "execution_count": 3,
   "id": "45469560-fc35-49ee-95d6-12d2a1d079dc",
   "metadata": {},
   "outputs": [
    {
     "data": {
      "text/html": [
       "<div>\n",
       "<style scoped>\n",
       "    .dataframe tbody tr th:only-of-type {\n",
       "        vertical-align: middle;\n",
       "    }\n",
       "\n",
       "    .dataframe tbody tr th {\n",
       "        vertical-align: top;\n",
       "    }\n",
       "\n",
       "    .dataframe thead th {\n",
       "        text-align: right;\n",
       "    }\n",
       "</style>\n",
       "<table border=\"1\" class=\"dataframe\">\n",
       "  <thead>\n",
       "    <tr style=\"text-align: right;\">\n",
       "      <th></th>\n",
       "      <th>sl_no</th>\n",
       "      <th>gender</th>\n",
       "      <th>ssc_p</th>\n",
       "      <th>ssc_b</th>\n",
       "      <th>hsc_p</th>\n",
       "      <th>hsc_b</th>\n",
       "      <th>hsc_s</th>\n",
       "      <th>degree_p</th>\n",
       "      <th>degree_t</th>\n",
       "      <th>workex</th>\n",
       "      <th>etest_p</th>\n",
       "      <th>specialisation</th>\n",
       "      <th>mba_p</th>\n",
       "      <th>status</th>\n",
       "      <th>salary</th>\n",
       "    </tr>\n",
       "  </thead>\n",
       "  <tbody>\n",
       "    <tr>\n",
       "      <th>0</th>\n",
       "      <td>1</td>\n",
       "      <td>M</td>\n",
       "      <td>67.00</td>\n",
       "      <td>Others</td>\n",
       "      <td>91.00</td>\n",
       "      <td>Others</td>\n",
       "      <td>Commerce</td>\n",
       "      <td>58.00</td>\n",
       "      <td>Sci&amp;Tech</td>\n",
       "      <td>No</td>\n",
       "      <td>55.0</td>\n",
       "      <td>Mkt&amp;HR</td>\n",
       "      <td>58.80</td>\n",
       "      <td>Placed</td>\n",
       "      <td>270000.0</td>\n",
       "    </tr>\n",
       "    <tr>\n",
       "      <th>1</th>\n",
       "      <td>2</td>\n",
       "      <td>M</td>\n",
       "      <td>79.33</td>\n",
       "      <td>Central</td>\n",
       "      <td>78.33</td>\n",
       "      <td>Others</td>\n",
       "      <td>Science</td>\n",
       "      <td>77.48</td>\n",
       "      <td>Sci&amp;Tech</td>\n",
       "      <td>Yes</td>\n",
       "      <td>86.5</td>\n",
       "      <td>Mkt&amp;Fin</td>\n",
       "      <td>66.28</td>\n",
       "      <td>Placed</td>\n",
       "      <td>200000.0</td>\n",
       "    </tr>\n",
       "    <tr>\n",
       "      <th>2</th>\n",
       "      <td>3</td>\n",
       "      <td>M</td>\n",
       "      <td>65.00</td>\n",
       "      <td>Central</td>\n",
       "      <td>68.00</td>\n",
       "      <td>Central</td>\n",
       "      <td>Arts</td>\n",
       "      <td>64.00</td>\n",
       "      <td>Comm&amp;Mgmt</td>\n",
       "      <td>No</td>\n",
       "      <td>75.0</td>\n",
       "      <td>Mkt&amp;Fin</td>\n",
       "      <td>57.80</td>\n",
       "      <td>Placed</td>\n",
       "      <td>250000.0</td>\n",
       "    </tr>\n",
       "    <tr>\n",
       "      <th>3</th>\n",
       "      <td>4</td>\n",
       "      <td>M</td>\n",
       "      <td>56.00</td>\n",
       "      <td>Central</td>\n",
       "      <td>52.00</td>\n",
       "      <td>Central</td>\n",
       "      <td>Science</td>\n",
       "      <td>52.00</td>\n",
       "      <td>Sci&amp;Tech</td>\n",
       "      <td>No</td>\n",
       "      <td>66.0</td>\n",
       "      <td>Mkt&amp;HR</td>\n",
       "      <td>59.43</td>\n",
       "      <td>Not Placed</td>\n",
       "      <td>NaN</td>\n",
       "    </tr>\n",
       "    <tr>\n",
       "      <th>4</th>\n",
       "      <td>5</td>\n",
       "      <td>M</td>\n",
       "      <td>85.80</td>\n",
       "      <td>Central</td>\n",
       "      <td>73.60</td>\n",
       "      <td>Central</td>\n",
       "      <td>Commerce</td>\n",
       "      <td>73.30</td>\n",
       "      <td>Comm&amp;Mgmt</td>\n",
       "      <td>No</td>\n",
       "      <td>96.8</td>\n",
       "      <td>Mkt&amp;Fin</td>\n",
       "      <td>55.50</td>\n",
       "      <td>Placed</td>\n",
       "      <td>425000.0</td>\n",
       "    </tr>\n",
       "    <tr>\n",
       "      <th>...</th>\n",
       "      <td>...</td>\n",
       "      <td>...</td>\n",
       "      <td>...</td>\n",
       "      <td>...</td>\n",
       "      <td>...</td>\n",
       "      <td>...</td>\n",
       "      <td>...</td>\n",
       "      <td>...</td>\n",
       "      <td>...</td>\n",
       "      <td>...</td>\n",
       "      <td>...</td>\n",
       "      <td>...</td>\n",
       "      <td>...</td>\n",
       "      <td>...</td>\n",
       "      <td>...</td>\n",
       "    </tr>\n",
       "    <tr>\n",
       "      <th>210</th>\n",
       "      <td>211</td>\n",
       "      <td>M</td>\n",
       "      <td>80.60</td>\n",
       "      <td>Others</td>\n",
       "      <td>82.00</td>\n",
       "      <td>Others</td>\n",
       "      <td>Commerce</td>\n",
       "      <td>77.60</td>\n",
       "      <td>Comm&amp;Mgmt</td>\n",
       "      <td>No</td>\n",
       "      <td>91.0</td>\n",
       "      <td>Mkt&amp;Fin</td>\n",
       "      <td>74.49</td>\n",
       "      <td>Placed</td>\n",
       "      <td>400000.0</td>\n",
       "    </tr>\n",
       "    <tr>\n",
       "      <th>211</th>\n",
       "      <td>212</td>\n",
       "      <td>M</td>\n",
       "      <td>58.00</td>\n",
       "      <td>Others</td>\n",
       "      <td>60.00</td>\n",
       "      <td>Others</td>\n",
       "      <td>Science</td>\n",
       "      <td>72.00</td>\n",
       "      <td>Sci&amp;Tech</td>\n",
       "      <td>No</td>\n",
       "      <td>74.0</td>\n",
       "      <td>Mkt&amp;Fin</td>\n",
       "      <td>53.62</td>\n",
       "      <td>Placed</td>\n",
       "      <td>275000.0</td>\n",
       "    </tr>\n",
       "    <tr>\n",
       "      <th>212</th>\n",
       "      <td>213</td>\n",
       "      <td>M</td>\n",
       "      <td>67.00</td>\n",
       "      <td>Others</td>\n",
       "      <td>67.00</td>\n",
       "      <td>Others</td>\n",
       "      <td>Commerce</td>\n",
       "      <td>73.00</td>\n",
       "      <td>Comm&amp;Mgmt</td>\n",
       "      <td>Yes</td>\n",
       "      <td>59.0</td>\n",
       "      <td>Mkt&amp;Fin</td>\n",
       "      <td>69.72</td>\n",
       "      <td>Placed</td>\n",
       "      <td>295000.0</td>\n",
       "    </tr>\n",
       "    <tr>\n",
       "      <th>213</th>\n",
       "      <td>214</td>\n",
       "      <td>F</td>\n",
       "      <td>74.00</td>\n",
       "      <td>Others</td>\n",
       "      <td>66.00</td>\n",
       "      <td>Others</td>\n",
       "      <td>Commerce</td>\n",
       "      <td>58.00</td>\n",
       "      <td>Comm&amp;Mgmt</td>\n",
       "      <td>No</td>\n",
       "      <td>70.0</td>\n",
       "      <td>Mkt&amp;HR</td>\n",
       "      <td>60.23</td>\n",
       "      <td>Placed</td>\n",
       "      <td>204000.0</td>\n",
       "    </tr>\n",
       "    <tr>\n",
       "      <th>214</th>\n",
       "      <td>215</td>\n",
       "      <td>M</td>\n",
       "      <td>62.00</td>\n",
       "      <td>Central</td>\n",
       "      <td>58.00</td>\n",
       "      <td>Others</td>\n",
       "      <td>Science</td>\n",
       "      <td>53.00</td>\n",
       "      <td>Comm&amp;Mgmt</td>\n",
       "      <td>No</td>\n",
       "      <td>89.0</td>\n",
       "      <td>Mkt&amp;HR</td>\n",
       "      <td>60.22</td>\n",
       "      <td>Not Placed</td>\n",
       "      <td>NaN</td>\n",
       "    </tr>\n",
       "  </tbody>\n",
       "</table>\n",
       "<p>215 rows × 15 columns</p>\n",
       "</div>"
      ],
      "text/plain": [
       "     sl_no gender  ssc_p    ssc_b  hsc_p    hsc_b     hsc_s  degree_p  \\\n",
       "0        1      M  67.00   Others  91.00   Others  Commerce     58.00   \n",
       "1        2      M  79.33  Central  78.33   Others   Science     77.48   \n",
       "2        3      M  65.00  Central  68.00  Central      Arts     64.00   \n",
       "3        4      M  56.00  Central  52.00  Central   Science     52.00   \n",
       "4        5      M  85.80  Central  73.60  Central  Commerce     73.30   \n",
       "..     ...    ...    ...      ...    ...      ...       ...       ...   \n",
       "210    211      M  80.60   Others  82.00   Others  Commerce     77.60   \n",
       "211    212      M  58.00   Others  60.00   Others   Science     72.00   \n",
       "212    213      M  67.00   Others  67.00   Others  Commerce     73.00   \n",
       "213    214      F  74.00   Others  66.00   Others  Commerce     58.00   \n",
       "214    215      M  62.00  Central  58.00   Others   Science     53.00   \n",
       "\n",
       "      degree_t workex  etest_p specialisation  mba_p      status    salary  \n",
       "0     Sci&Tech     No     55.0         Mkt&HR  58.80      Placed  270000.0  \n",
       "1     Sci&Tech    Yes     86.5        Mkt&Fin  66.28      Placed  200000.0  \n",
       "2    Comm&Mgmt     No     75.0        Mkt&Fin  57.80      Placed  250000.0  \n",
       "3     Sci&Tech     No     66.0         Mkt&HR  59.43  Not Placed       NaN  \n",
       "4    Comm&Mgmt     No     96.8        Mkt&Fin  55.50      Placed  425000.0  \n",
       "..         ...    ...      ...            ...    ...         ...       ...  \n",
       "210  Comm&Mgmt     No     91.0        Mkt&Fin  74.49      Placed  400000.0  \n",
       "211   Sci&Tech     No     74.0        Mkt&Fin  53.62      Placed  275000.0  \n",
       "212  Comm&Mgmt    Yes     59.0        Mkt&Fin  69.72      Placed  295000.0  \n",
       "213  Comm&Mgmt     No     70.0         Mkt&HR  60.23      Placed  204000.0  \n",
       "214  Comm&Mgmt     No     89.0         Mkt&HR  60.22  Not Placed       NaN  \n",
       "\n",
       "[215 rows x 15 columns]"
      ]
     },
     "execution_count": 3,
     "metadata": {},
     "output_type": "execute_result"
    }
   ],
   "source": [
    "dataset\n"
   ]
  },
  {
   "cell_type": "code",
   "execution_count": 4,
   "id": "7673ba77-73f5-4a2c-9b81-5c85489c506f",
   "metadata": {},
   "outputs": [],
   "source": [
    "#1.replace the nan values and justify it"
   ]
  },
  {
   "cell_type": "code",
   "execution_count": 5,
   "id": "0c44ae9b-ec24-479d-84e1-aa62550a6312",
   "metadata": {},
   "outputs": [
    {
     "data": {
      "text/plain": [
       "sl_no              0\n",
       "gender             0\n",
       "ssc_p              0\n",
       "ssc_b              0\n",
       "hsc_p              0\n",
       "hsc_b              0\n",
       "hsc_s              0\n",
       "degree_p           0\n",
       "degree_t           0\n",
       "workex             0\n",
       "etest_p            0\n",
       "specialisation     0\n",
       "mba_p              0\n",
       "status             0\n",
       "salary            67\n",
       "dtype: int64"
      ]
     },
     "execution_count": 5,
     "metadata": {},
     "output_type": "execute_result"
    }
   ],
   "source": [
    "dataset.isnull().sum()"
   ]
  },
  {
   "cell_type": "code",
   "execution_count": 6,
   "id": "72225e9b-2952-4203-b131-cdec85d8893d",
   "metadata": {},
   "outputs": [
    {
     "name": "stderr",
     "output_type": "stream",
     "text": [
      "C:\\Users\\argka\\AppData\\Local\\Temp\\ipykernel_17348\\2080798296.py:1: FutureWarning: A value is trying to be set on a copy of a DataFrame or Series through chained assignment using an inplace method.\n",
      "The behavior will change in pandas 3.0. This inplace method will never work because the intermediate object on which we are setting values always behaves as a copy.\n",
      "\n",
      "For example, when doing 'df[col].method(value, inplace=True)', try using 'df.method({col: value}, inplace=True)' or df[col] = df[col].method(value) instead, to perform the operation inplace on the original object.\n",
      "\n",
      "\n",
      "  dataset[\"salary\"].fillna(0,inplace=True)\n"
     ]
    }
   ],
   "source": [
    "dataset[\"salary\"].fillna(0,inplace=True)"
   ]
  },
  {
   "cell_type": "code",
   "execution_count": 7,
   "id": "dac0655a-775a-4f9a-ac75-511135a6abfa",
   "metadata": {},
   "outputs": [
    {
     "data": {
      "text/plain": [
       "sl_no             0\n",
       "gender            0\n",
       "ssc_p             0\n",
       "ssc_b             0\n",
       "hsc_p             0\n",
       "hsc_b             0\n",
       "hsc_s             0\n",
       "degree_p          0\n",
       "degree_t          0\n",
       "workex            0\n",
       "etest_p           0\n",
       "specialisation    0\n",
       "mba_p             0\n",
       "status            0\n",
       "salary            0\n",
       "dtype: int64"
      ]
     },
     "execution_count": 7,
     "metadata": {},
     "output_type": "execute_result"
    }
   ],
   "source": [
    "dataset.isnull().sum()"
   ]
  },
  {
   "cell_type": "code",
   "execution_count": 8,
   "id": "097e7306-63d1-4694-9097-23d525d13553",
   "metadata": {},
   "outputs": [],
   "source": [
    "#2. Howmany of them are not placed?"
   ]
  },
  {
   "cell_type": "code",
   "execution_count": 9,
   "id": "aa74014a-3e0e-481c-9774-90d1adc9121b",
   "metadata": {},
   "outputs": [
    {
     "data": {
      "text/plain": [
       "status\n",
       "Placed        148\n",
       "Not Placed     67\n",
       "Name: count, dtype: int64"
      ]
     },
     "execution_count": 9,
     "metadata": {},
     "output_type": "execute_result"
    }
   ],
   "source": [
    "dataset[\"status\"].value_counts()"
   ]
  },
  {
   "cell_type": "code",
   "execution_count": 10,
   "id": "fa1eb2e6-1db4-4f4b-a653-3e6337f0cf1c",
   "metadata": {},
   "outputs": [],
   "source": [
    "#3.reason for non placement(less mba_p marks)"
   ]
  },
  {
   "cell_type": "code",
   "execution_count": 11,
   "id": "f64b3935-0e70-40ed-bdfa-63b9f8b3264c",
   "metadata": {},
   "outputs": [],
   "source": [
    "df=pd.DataFrame(dataset)"
   ]
  },
  {
   "cell_type": "code",
   "execution_count": 12,
   "id": "3eb31d16-2579-47c9-b82c-3eca19711a0f",
   "metadata": {},
   "outputs": [
    {
     "name": "stdout",
     "output_type": "stream",
     "text": [
      "Comparison of features between Placed and Not Placed students:\n",
      "         Placed_Mean  Not_Placed_Mean  Difference\n",
      "ssc_p      71.721486        57.544030   14.177457\n",
      "hsc_p      69.926554        58.395522   11.531032\n",
      "etest_p    73.238041        69.587910    3.650130\n",
      "mba_p      62.579392        61.612836    0.966556\n"
     ]
    },
    {
     "name": "stderr",
     "output_type": "stream",
     "text": [
      "C:\\Users\\argka\\AppData\\Local\\Temp\\ipykernel_17348\\198180686.py:22: FutureWarning: \n",
      "\n",
      "Passing `palette` without assigning `hue` is deprecated and will be removed in v0.14.0. Assign the `x` variable to `hue` and set `legend=False` for the same effect.\n",
      "\n",
      "  sns.barplot(x=summary.index, y=summary['Difference'], palette='coolwarm')\n"
     ]
    },
    {
     "data": {
      "image/png": "[encoded data removed]",
      "text/plain": [
       "<Figure size 1000x600 with 1 Axes>"
      ]
     },
     "metadata": {},
     "output_type": "display_data"
    }
   ],
   "source": [
    "import pandas as pd\n",
    "import matplotlib.pyplot as plt\n",
    "import seaborn as sns\n",
    "\n",
    "# Separate the dataset into placed and not placed\n",
    "placed = df[df['status'] == 'Placed']\n",
    "not_placed = df[df['status'] == 'Not Placed']\n",
    "\n",
    "# Compare key features\n",
    "features = ['ssc_p', 'hsc_p', 'etest_p', 'mba_p']\n",
    "summary = pd.DataFrame({\n",
    "    'Placed_Mean': placed[features].mean(),\n",
    "    'Not_Placed_Mean': not_placed[features].mean(),\n",
    "    'Difference': placed[features].mean() - not_placed[features].mean()\n",
    "})\n",
    "\n",
    "print(\"Comparison of features between Placed and Not Placed students:\")\n",
    "print(summary)\n",
    "\n",
    "# Plot the differences\n",
    "plt.figure(figsize=(10, 6))\n",
    "sns.barplot(x=summary.index, y=summary['Difference'], palette='coolwarm')\n",
    "plt.title('Difference in Key Features Between Placed and Not Placed Students')\n",
    "plt.xlabel('Features')\n",
    "plt.ylabel('Mean Difference')\n",
    "plt.axhline(0, color='black', linestyle='--')\n",
    "plt.show()\n"
   ]
  },
  {
   "cell_type": "code",
   "execution_count": 13,
   "id": "c802561d-954a-4064-a30b-22fd380bd120",
   "metadata": {},
   "outputs": [],
   "source": [
    "#4. what kind of relationship between mba and salary"
   ]
  },
  {
   "cell_type": "code",
   "execution_count": 14,
   "id": "33df0606-ef07-4349-aca3-1e4ea275324c",
   "metadata": {},
   "outputs": [],
   "source": [
    "correlation=df['mba_p'].corr(df['salary'])"
   ]
  },
  {
   "cell_type": "code",
   "execution_count": 15,
   "id": "6813b976-15ff-4669-937c-b4e5f15119d4",
   "metadata": {},
   "outputs": [
    {
     "data": {
      "text/plain": [
       "0.13982273892615565"
      ]
     },
     "execution_count": 15,
     "metadata": {},
     "output_type": "execute_result"
    }
   ],
   "source": [
    "correlation"
   ]
  },
  {
   "cell_type": "code",
   "execution_count": 16,
   "id": "d23cb60e-1a15-4866-a032-933d17c2a5be",
   "metadata": {},
   "outputs": [],
   "source": [
    "#This value is not close to 1 so negative corr..if mba marks higher salary also get lower."
   ]
  },
  {
   "cell_type": "code",
   "execution_count": 17,
   "id": "5c526ac1-c9ec-4072-a811-255f01504f52",
   "metadata": {},
   "outputs": [],
   "source": [
    "#5. which specialisation is getting min salary?"
   ]
  },
  {
   "cell_type": "code",
   "execution_count": 18,
   "id": "f7807045-2b1d-487a-b005-e429dc4b8b81",
   "metadata": {},
   "outputs": [
    {
     "data": {
      "text/plain": [
       "specialisation\n",
       "Mkt&Fin    120\n",
       "Mkt&HR      95\n",
       "Name: count, dtype: int64"
      ]
     },
     "execution_count": 18,
     "metadata": {},
     "output_type": "execute_result"
    }
   ],
   "source": [
    "dataset['specialisation'].value_counts()"
   ]
  },
  {
   "cell_type": "code",
   "execution_count": 32,
   "id": "4af92401-2e61-4219-9387-9d3da40cf1f9",
   "metadata": {},
   "outputs": [
    {
     "name": "stderr",
     "output_type": "stream",
     "text": [
      "C:\\Users\\argka\\AppData\\Local\\Temp\\ipykernel_17348\\2878713991.py:2: FutureWarning: A value is trying to be set on a copy of a DataFrame or Series through chained assignment using an inplace method.\n",
      "The behavior will change in pandas 3.0. This inplace method will never work because the intermediate object on which we are setting values always behaves as a copy.\n",
      "\n",
      "For example, when doing 'df[col].method(value, inplace=True)', try using 'df.method({col: value}, inplace=True)' or df[col] = df[col].method(value) instead, to perform the operation inplace on the original object.\n",
      "\n",
      "\n",
      "  dataset[\"salary\"].fillna(0,inplace=True)\n"
     ]
    },
    {
     "name": "stdout",
     "output_type": "stream",
     "text": [
      "Minimum Salary by Specialization (Excluding 0):\n",
      "specialisation\n",
      "Mkt&Fin    200000.0\n",
      "Mkt&HR     200000.0\n",
      "Name: salary, dtype: object\n"
     ]
    },
    {
     "data": {
      "image/png": "[encoded data removed]",
      "text/plain": [
       "<Figure size 800x500 with 1 Axes>"
      ]
     },
     "metadata": {},
     "output_type": "display_data"
    }
   ],
   "source": [
    "# Replace 0 in the salary column with NaN (if 0 represents missing data)\n",
    "dataset[\"salary\"].fillna(0,inplace=True)\n",
    "\n",
    "# Drop rows with missing salaries\n",
    "df_clean = df.dropna(subset=['salary'])\n",
    "\n",
    "# Group by specialization and find the minimum salary\n",
    "min_salary_by_specialisation = df_clean.groupby('specialisation')['salary'].min()\n",
    "\n",
    "# Display results\n",
    "print(\"Minimum Salary by Specialization (Excluding 0):\")\n",
    "print(min_salary_by_specialisation)\n",
    "\n",
    "# Visualization\n",
    "min_salary_by_specialisation.plot(kind='bar', color=['skyblue', 'lightcoral'], figsize=(8, 5))\n",
    "plt.title('Minimum Salary by MBA Specialization')\n",
    "plt.xlabel('Specialization')\n",
    "plt.ylabel('Minimum Salary')\n",
    "plt.xticks(rotation=0)\n",
    "plt.show()\n"
   ]
  },
  {
   "cell_type": "markdown",
   "id": "1dbe9ae0-7eb0-4abe-9446-c4ee819394c6",
   "metadata": {},
   "source": [
    "#6. Howmany of them are getting above 500000salary?\n"
   ]
  },
  {
   "cell_type": "code",
   "execution_count": 54,
   "id": "ef9f4ab0-2b03-4de5-a3cb-25c23ec855c6",
   "metadata": {},
   "outputs": [],
   "source": [
    "above_5_lakhs = df[df['salary']>500000]"
   ]
  },
  {
   "cell_type": "code",
   "execution_count": 55,
   "id": "d78afc6d-ee1b-4bcf-a314-5733d7ef8aaf",
   "metadata": {},
   "outputs": [
    {
     "data": {
      "text/html": [
       "<div>\n",
       "<style scoped>\n",
       "    .dataframe tbody tr th:only-of-type {\n",
       "        vertical-align: middle;\n",
       "    }\n",
       "\n",
       "    .dataframe tbody tr th {\n",
       "        vertical-align: top;\n",
       "    }\n",
       "\n",
       "    .dataframe thead th {\n",
       "        text-align: right;\n",
       "    }\n",
       "</style>\n",
       "<table border=\"1\" class=\"dataframe\">\n",
       "  <thead>\n",
       "    <tr style=\"text-align: right;\">\n",
       "      <th></th>\n",
       "      <th>sl_no</th>\n",
       "      <th>gender</th>\n",
       "      <th>ssc_p</th>\n",
       "      <th>ssc_b</th>\n",
       "      <th>hsc_p</th>\n",
       "      <th>hsc_b</th>\n",
       "      <th>hsc_s</th>\n",
       "      <th>degree_p</th>\n",
       "      <th>degree_t</th>\n",
       "      <th>workex</th>\n",
       "      <th>etest_p</th>\n",
       "      <th>specialisation</th>\n",
       "      <th>mba_p</th>\n",
       "      <th>status</th>\n",
       "      <th>salary</th>\n",
       "    </tr>\n",
       "  </thead>\n",
       "  <tbody>\n",
       "    <tr>\n",
       "      <th>119</th>\n",
       "      <td>120</td>\n",
       "      <td>M</td>\n",
       "      <td>60.8</td>\n",
       "      <td>Central</td>\n",
       "      <td>68.40</td>\n",
       "      <td>Central</td>\n",
       "      <td>Commerce</td>\n",
       "      <td>64.6</td>\n",
       "      <td>Comm&amp;Mgmt</td>\n",
       "      <td>Yes</td>\n",
       "      <td>82.66</td>\n",
       "      <td>Mkt&amp;Fin</td>\n",
       "      <td>64.34</td>\n",
       "      <td>Placed</td>\n",
       "      <td>940000.0</td>\n",
       "    </tr>\n",
       "    <tr>\n",
       "      <th>150</th>\n",
       "      <td>151</td>\n",
       "      <td>M</td>\n",
       "      <td>71.0</td>\n",
       "      <td>Central</td>\n",
       "      <td>58.66</td>\n",
       "      <td>Central</td>\n",
       "      <td>Science</td>\n",
       "      <td>58.0</td>\n",
       "      <td>Sci&amp;Tech</td>\n",
       "      <td>Yes</td>\n",
       "      <td>56.00</td>\n",
       "      <td>Mkt&amp;Fin</td>\n",
       "      <td>61.30</td>\n",
       "      <td>Placed</td>\n",
       "      <td>690000.0</td>\n",
       "    </tr>\n",
       "    <tr>\n",
       "      <th>177</th>\n",
       "      <td>178</td>\n",
       "      <td>F</td>\n",
       "      <td>73.0</td>\n",
       "      <td>Central</td>\n",
       "      <td>97.00</td>\n",
       "      <td>Others</td>\n",
       "      <td>Commerce</td>\n",
       "      <td>79.0</td>\n",
       "      <td>Comm&amp;Mgmt</td>\n",
       "      <td>Yes</td>\n",
       "      <td>89.00</td>\n",
       "      <td>Mkt&amp;Fin</td>\n",
       "      <td>70.81</td>\n",
       "      <td>Placed</td>\n",
       "      <td>650000.0</td>\n",
       "    </tr>\n",
       "  </tbody>\n",
       "</table>\n",
       "</div>"
      ],
      "text/plain": [
       "     sl_no gender  ssc_p    ssc_b  hsc_p    hsc_b     hsc_s  degree_p  \\\n",
       "119    120      M   60.8  Central  68.40  Central  Commerce      64.6   \n",
       "150    151      M   71.0  Central  58.66  Central   Science      58.0   \n",
       "177    178      F   73.0  Central  97.00   Others  Commerce      79.0   \n",
       "\n",
       "      degree_t workex  etest_p specialisation  mba_p  status    salary  \n",
       "119  Comm&Mgmt    Yes    82.66        Mkt&Fin  64.34  Placed  940000.0  \n",
       "150   Sci&Tech    Yes    56.00        Mkt&Fin  61.30  Placed  690000.0  \n",
       "177  Comm&Mgmt    Yes    89.00        Mkt&Fin  70.81  Placed  650000.0  "
      ]
     },
     "execution_count": 55,
     "metadata": {},
     "output_type": "execute_result"
    }
   ],
   "source": [
    "above_5_lakhs"
   ]
  },
  {
   "cell_type": "code",
   "execution_count": 52,
   "id": "ae9044f1-8a54-4f75-99d0-542aa3c7e943",
   "metadata": {},
   "outputs": [],
   "source": [
    "above_5_lakhs = df[df['salary']>500000].shape[0]"
   ]
  },
  {
   "cell_type": "code",
   "execution_count": 53,
   "id": "fb872bdc-e98b-4d17-8345-c481b2808e7d",
   "metadata": {},
   "outputs": [
    {
     "data": {
      "text/plain": [
       "3"
      ]
     },
     "execution_count": 53,
     "metadata": {},
     "output_type": "execute_result"
    }
   ],
   "source": [
    "above_5_lakhs"
   ]
  },
  {
   "cell_type": "code",
   "execution_count": 22,
   "id": "5fe30e59-e5c5-4c3e-8358-a38cc19c62c0",
   "metadata": {},
   "outputs": [],
   "source": [
    "#Anavo etest and mba\n",
    "\n",
    "import scipy.stats as stats\n",
    "\n",
    "f_stat, p_value =stats.f_oneway(df['etest_p'], df['mba_p'])\n",
    "\n",
    "\n"
   ]
  },
  {
   "cell_type": "code",
   "execution_count": 23,
   "id": "89ce96e5-d52f-42c9-aaef-7a6ac5a28df9",
   "metadata": {},
   "outputs": [
    {
     "name": "stdout",
     "output_type": "stream",
     "text": [
      "Reject the null hypothesis: Significant difference exists between etest_p and mba_p.\n"
     ]
    }
   ],
   "source": [
    "value= 0.05\n",
    "if p_value <= value:\n",
    "    print(\"Reject the null hypothesis: Significant difference exists between etest_p and mba_p.\")\n",
    "else:\n",
    "    print(\"Fail to reject the null hypothesis: No significant difference between etest_p and mba_p.\")\n",
    "\n"
   ]
  },
  {
   "cell_type": "code",
   "execution_count": 24,
   "id": "2659032e-0612-452d-9d25-15a7a26cee30",
   "metadata": {},
   "outputs": [],
   "source": [
    "# 7.T_test degree,specialisation with salary"
   ]
  },
  {
   "cell_type": "code",
   "execution_count": 25,
   "id": "afbe40ec-b276-4d7f-a243-7cf3047a26ca",
   "metadata": {},
   "outputs": [
    {
     "data": {
      "text/plain": [
       "TtestResult(statistic=2.692041243555374, pvalue=0.007897969943471179, df=152.0)"
      ]
     },
     "execution_count": 25,
     "metadata": {},
     "output_type": "execute_result"
    }
   ],
   "source": [
    "from scipy.stats import ttest_ind\n",
    "dataset=dataset.dropna()\n",
    "degree = dataset[dataset['degree_t']=='Sci&Tech']['salary']\n",
    "special= dataset[dataset['specialisation']=='Mkt&HR']['salary']\n",
    "#print(male)\n",
    "ttest_ind(degree, special)"
   ]
  },
  {
   "cell_type": "code",
   "execution_count": 26,
   "id": "cb17375d-c59a-42fc-8fed-508b2bb35a80",
   "metadata": {},
   "outputs": [],
   "source": [
    "# result =There is significant difff exists bw etst and spe with salary"
   ]
  },
  {
   "cell_type": "code",
   "execution_count": 27,
   "id": "0d02dc96-6970-474c-b79f-e36e30c8b741",
   "metadata": {},
   "outputs": [],
   "source": [
    "#8. Z_score(normal distribution to std normal distribution"
   ]
  },
  {
   "cell_type": "code",
   "execution_count": 28,
   "id": "c1b3a6a0-6fd8-430f-bd36-af33623944d1",
   "metadata": {},
   "outputs": [
    {
     "ename": "NameError",
     "evalue": "name 'Standardized_Salary' is not defined",
     "output_type": "error",
     "traceback": [
      "\u001b[1;31m---------------------------------------------------------------------------\u001b[0m",
      "\u001b[1;31mNameError\u001b[0m                                 Traceback (most recent call last)",
      "Cell \u001b[1;32mIn[28], line 1\u001b[0m\n\u001b[1;32m----> 1\u001b[0m Standardized_Salary\n",
      "\u001b[1;31mNameError\u001b[0m: name 'Standardized_Salary' is not defined"
     ]
    }
   ],
   "source": [
    "Standardized_Salary"
   ]
  },
  {
   "cell_type": "markdown",
   "id": "f69ba2d2-bd74-4e65-97b7-98fbbd60ac35",
   "metadata": {},
   "source": [
    "clean_salary=df[\"salary\"].dropna()"
   ]
  },
  {
   "cell_type": "code",
   "execution_count": null,
   "id": "dcbb14b1-2a15-40f2-be33-0301e8c5d18c",
   "metadata": {},
   "outputs": [],
   "source": [
    "mean_salary=df[\"salary\"].mean()"
   ]
  },
  {
   "cell_type": "code",
   "execution_count": null,
   "id": "df223f05-efbc-4897-9869-15f20af112a9",
   "metadata": {},
   "outputs": [],
   "source": [
    "mean_salary"
   ]
  },
  {
   "cell_type": "code",
   "execution_count": null,
   "id": "de995370-bc34-4661-9fee-548711165680",
   "metadata": {},
   "outputs": [],
   "source": [
    "std_salary=df[\"salary\"].std()"
   ]
  },
  {
   "cell_type": "code",
   "execution_count": null,
   "id": "125e51cb-7df3-4e3d-8dd1-7a82ed9093e1",
   "metadata": {},
   "outputs": [],
   "source": [
    "std_salary"
   ]
  },
  {
   "cell_type": "code",
   "execution_count": null,
   "id": "2f09f41f-c71e-447f-962e-25fd898ea957",
   "metadata": {},
   "outputs": [],
   "source": [
    "z_score=(clean_salary-mean_salary)/std_salary"
   ]
  },
  {
   "cell_type": "code",
   "execution_count": null,
   "id": "ea0104cd-fdbd-4edd-bc07-4682f05fca76",
   "metadata": {},
   "outputs": [],
   "source": [
    "z_score"
   ]
  },
  {
   "cell_type": "code",
   "execution_count": null,
   "id": "5c23d2d5-6f39-472b-b0bc-6e2b0c433dd2",
   "metadata": {},
   "outputs": [],
   "source": [
    "#From z_score negative values are below mean,positive values are above mean"
   ]
  },
  {
   "cell_type": "code",
   "execution_count": null,
   "id": "e7e93c42-b2b2-4972-90c8-6314ef4b4dab",
   "metadata": {},
   "outputs": [],
   "source": [
    "#9. PDF for salary range 5l to 7l?"
   ]
  },
  {
   "cell_type": "code",
   "execution_count": null,
   "id": "b8fb76f5-6e3d-4f9b-a854-b95d94d1549e",
   "metadata": {},
   "outputs": [],
   "source": [
    "salary_range = np.linspace(700000, 900000, 100)\n",
    "from scipy.stats import norm\n",
    "\n"
   ]
  },
  {
   "cell_type": "code",
   "execution_count": null,
   "id": "44be10fb-a34e-4fb4-8b9b-edc66c190107",
   "metadata": {},
   "outputs": [],
   "source": [
    "pdf_values = norm.pdf(salary_range, mean_salary, std_salary)\n"
   ]
  },
  {
   "cell_type": "code",
   "execution_count": null,
   "id": "598d4da0-b3a1-4432-993e-a4338f78449a",
   "metadata": {},
   "outputs": [],
   "source": [
    "pdf_values\n"
   ]
  },
  {
   "cell_type": "code",
   "execution_count": null,
   "id": "ace8823d-c945-43ff-aed2-c6d9390b9ace",
   "metadata": {},
   "outputs": [],
   "source": [
    "plt.figure(figsize=(8, 5))\n",
    "plt.plot(salary_range, pdf_values, label='PDF', color='blue')\n",
    "plt.title('Probability Density Function for Salary')\n",
    "plt.xlabel('Salary')\n",
    "plt.ylabel('Density')\n",
    "plt.grid()\n",
    "plt.legend()\n",
    "plt.show()"
   ]
  },
  {
   "cell_type": "code",
   "execution_count": null,
   "id": "f40d2f9b-f136-41f0-93bb-d5deab8023b0",
   "metadata": {},
   "outputs": [],
   "source": [
    "#10.paired T_test"
   ]
  },
  {
   "cell_type": "code",
   "execution_count": null,
   "id": "74b038f4-eddc-4a9a-b131-37fa8199636a",
   "metadata": {},
   "outputs": [],
   "source": [
    "from scipy.stats import ttest_rel\n",
    "dataset=dataset.dropna()\n",
    "etest = dataset[dataset['degree_t']=='Sci&Tech']['etest_p']\n",
    "mba_p= dataset[dataset['degree_t']=='Sci&Tech']['mba_p']\n",
    "#print(male)\n",
    "ttest_ind(etest,mba_p)"
   ]
  },
  {
   "cell_type": "code",
   "execution_count": null,
   "id": "c7735a00-ebbf-4544-b949-911d7341ef2d",
   "metadata": {},
   "outputs": [],
   "source": [
    "#There is no significant diff bw sci&tech with etest_p,mba_p "
   ]
  },
  {
   "cell_type": "code",
   "execution_count": null,
   "id": "c077f547-00e6-4481-bccc-b522c4bac974",
   "metadata": {},
   "outputs": [],
   "source": [
    "#11.Which parameter is highly correlated with salary?"
   ]
  },
  {
   "cell_type": "code",
   "execution_count": null,
   "id": "8b4be21a-561c-4197-bce8-6e79e924e24f",
   "metadata": {},
   "outputs": [],
   "source": [
    "df=pd.DataFrame(dataset)\n",
    "df=pd.get_dummies(df,drop_first=True)"
   ]
  },
  {
   "cell_type": "code",
   "execution_count": null,
   "id": "257c91a6-b7e6-4030-beb7-82bc384bb4ac",
   "metadata": {},
   "outputs": [],
   "source": [
    " \n",
    "correlations = df.corr()\n",
    "\n",
    "# Extract correlation of all features with salary\n",
    "salary_correlation = correlations['salary'].sort_values(ascending=True)\n",
    "\n",
    "# Print the correlations\n",
    "print(\"Correlation of parameters with salary:\")\n",
    "print(salary_correlation)\n"
   ]
  },
  {
   "cell_type": "code",
   "execution_count": null,
   "id": "cf0bb79d-f90e-4015-9d1e-507358cbf6ab",
   "metadata": {},
   "outputs": [],
   "source": [
    "#salary is highly correlated with placement status"
   ]
  },
  {
   "cell_type": "code",
   "execution_count": null,
   "id": "0055d162-0234-4b19-bf89-d13fecc40902",
   "metadata": {},
   "outputs": [],
   "source": [
    "#12.Plot any useful graph and explain"
   ]
  },
  {
   "cell_type": "code",
   "execution_count": null,
   "id": "f86db87c-e753-4ed6-af3c-433ee006c0f0",
   "metadata": {},
   "outputs": [],
   "source": [
    "import matplotlib.pyplot as plt\n",
    "import seaborn as sns\n",
    "\n",
    "# Load salary data, dropping NaN values\n",
    "salary = df['salary'].dropna()\n",
    "\n",
    "# Set up the figure\n",
    "plt.figure(figsize=(12, 6))\n",
    "\n",
    "# Subplot 1: Histogram of Salary\n",
    "plt.subplot(1, 2, 1)\n",
    "sns.histplot(salary, bins=15, kde=True, color='blue')\n",
    "plt.title('Salary Distribution')\n",
    "plt.xlabel('Salary')\n",
    "plt.ylabel('Frequency')\n",
    "\n",
    "\n",
    "\n",
    "# Show the plots\n",
    "plt.tight_layout()\n",
    "plt.show()"
   ]
  },
  {
   "cell_type": "code",
   "execution_count": null,
   "id": "068dd7e3-33e0-4ae7-9df4-cd86e520355c",
   "metadata": {},
   "outputs": [],
   "source": [
    "descriptive"
   ]
  },
  {
   "cell_type": "code",
   "execution_count": 29,
   "id": "9915ad05-d9d6-47d8-84f6-c64cd4ff43dd",
   "metadata": {
    "scrolled": true
   },
   "outputs": [
    {
     "name": "stderr",
     "output_type": "stream",
     "text": [
      "C:\\Users\\argka\\AppData\\Local\\Temp\\ipykernel_17348\\965210320.py:11: FutureWarning: ChainedAssignmentError: behaviour will change in pandas 3.0!\n",
      "You are setting values through chained assignment. Currently this works in certain cases, but when using Copy-on-Write (which will become the default behaviour in pandas 3.0) this will never work to update the original DataFrame or Series, because the intermediate object on which we are setting values will behave as a copy.\n",
      "A typical example is when you are setting values in a column of a DataFrame, like:\n",
      "\n",
      "df[\"col\"][row_indexer] = value\n",
      "\n",
      "Use `df.loc[row_indexer, \"col\"] = values` instead, to perform the assignment in a single step and ensure this keeps updating the original `df`.\n",
      "\n",
      "See the caveats in the documentation: https://pandas.pydata.org/pandas-docs/stable/user_guide/indexing.html#returning-a-view-versus-a-copy\n",
      "\n",
      "  descriptive[columname][\"placed\"]=placed[columname].mean()\n",
      "C:\\Users\\argka\\AppData\\Local\\Temp\\ipykernel_17348\\965210320.py:12: FutureWarning: ChainedAssignmentError: behaviour will change in pandas 3.0!\n",
      "You are setting values through chained assignment. Currently this works in certain cases, but when using Copy-on-Write (which will become the default behaviour in pandas 3.0) this will never work to update the original DataFrame or Series, because the intermediate object on which we are setting values will behave as a copy.\n",
      "A typical example is when you are setting values in a column of a DataFrame, like:\n",
      "\n",
      "df[\"col\"][row_indexer] = value\n",
      "\n",
      "Use `df.loc[row_indexer, \"col\"] = values` instead, to perform the assignment in a single step and ensure this keeps updating the original `df`.\n",
      "\n",
      "See the caveats in the documentation: https://pandas.pydata.org/pandas-docs/stable/user_guide/indexing.html#returning-a-view-versus-a-copy\n",
      "\n",
      "  descriptive[columname][\"not_placed\"]=not_placed[columname].mean()\n",
      "C:\\Users\\argka\\AppData\\Local\\Temp\\ipykernel_17348\\965210320.py:13: FutureWarning: ChainedAssignmentError: behaviour will change in pandas 3.0!\n",
      "You are setting values through chained assignment. Currently this works in certain cases, but when using Copy-on-Write (which will become the default behaviour in pandas 3.0) this will never work to update the original DataFrame or Series, because the intermediate object on which we are setting values will behave as a copy.\n",
      "A typical example is when you are setting values in a column of a DataFrame, like:\n",
      "\n",
      "df[\"col\"][row_indexer] = value\n",
      "\n",
      "Use `df.loc[row_indexer, \"col\"] = values` instead, to perform the assignment in a single step and ensure this keeps updating the original `df`.\n",
      "\n",
      "See the caveats in the documentation: https://pandas.pydata.org/pandas-docs/stable/user_guide/indexing.html#returning-a-view-versus-a-copy\n",
      "\n",
      "  descriptive[columname][\"diff\"]=descriptive[columname][\"placed\"]-descriptive[columname][\"not_placed\"]\n",
      "C:\\Users\\argka\\AppData\\Local\\Temp\\ipykernel_17348\\965210320.py:16: FutureWarning: \n",
      "\n",
      "Passing `palette` without assigning `hue` is deprecated and will be removed in v0.14.0. Assign the `x` variable to `hue` and set `legend=False` for the same effect.\n",
      "\n",
      "  sns.barplot(x=descriptive.columns, y=descriptive[columname][\"diff\"], palette='coolwarm')\n"
     ]
    },
    {
     "data": {
      "image/png": "[encoded data removed]",
      "text/plain": [
       "<Figure size 1000x600 with 1 Axes>"
      ]
     },
     "metadata": {},
     "output_type": "display_data"
    }
   ],
   "source": [
    "import matplotlib.pyplot as plt\n",
    "import seaborn as sns\n",
    "\n",
    "placed = df[df['status'] == 'Placed']\n",
    "not_placed = df[df['status'] == 'Not Placed']\n",
    "columns=['ssc_p', 'hsc_p', 'etest_p', 'mba_p']\n",
    "\n",
    "descriptive=pd.DataFrame(index=[\"placed\",\"not_placed\",\"diff\"],columns=['ssc_p', 'hsc_p', 'etest_p', 'mba_p'])\n",
    "\n",
    "for columname in columns:  \n",
    "    descriptive[columname][\"placed\"]=placed[columname].mean()\n",
    "    descriptive[columname][\"not_placed\"]=not_placed[columname].mean()\n",
    "    descriptive[columname][\"diff\"]=descriptive[columname][\"placed\"]-descriptive[columname][\"not_placed\"]\n",
    "descriptive\n",
    "plt.figure(figsize=(10, 6))\n",
    "sns.barplot(x=descriptive.columns, y=descriptive[columname][\"diff\"], palette='coolwarm')\n",
    "plt.title('Difference in Key Features Between Placed and Not Placed Students')\n",
    "plt.xlabel('Features')\n",
    "plt.ylabel('Mean Difference')\n",
    "plt.axhline(0, color='black', linestyle='--')\n",
    "plt.show()"
   ]
  },
  {
   "cell_type": "code",
   "execution_count": null,
   "id": "10d740f9-7a2c-46d3-8ac1-9b58889d02d2",
   "metadata": {},
   "outputs": [],
   "source": [
    "descriptive"
   ]
  },
  {
   "cell_type": "code",
   "execution_count": null,
   "id": "71ef1800-7a93-48d5-9959-ff19e0189760",
   "metadata": {},
   "outputs": [],
   "source": []
  }
 ],
 "metadata": {
  "kernelspec": {
   "display_name": "Python 3 (ipykernel)",
   "language": "python",
   "name": "python3"
  },
  "language_info": {
   "codemirror_mode": {
    "name": "ipython",
    "version": 3
   },
   "file_extension": ".py",
   "mimetype": "text/x-python",
   "name": "python",
   "nbconvert_exporter": "python",
   "pygments_lexer": "ipython3",
   "version": "3.11.5"
  }
 },
 "nbformat": 4,
 "nbformat_minor": 5
}

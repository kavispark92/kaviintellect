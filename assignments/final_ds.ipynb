{
 "cells": [
  {
   "cell_type": "code",
   "execution_count": 1,
   "id": "d2b6814c-d977-4e3d-a842-a4ceb47442e0",
   "metadata": {},
   "outputs": [],
   "source": [
    "import pandas as pd\n",
    "import numpy as np\n",
    "import seaborn as sns"
   ]
  },
  {
   "cell_type": "code",
   "execution_count": 2,
   "id": "63087e96-32e1-494f-8645-70bdf263926b",
   "metadata": {},
   "outputs": [
    {
     "ename": "FileNotFoundError",
     "evalue": "[Errno 2] No such file or directory: 'Placement.csv'",
     "output_type": "error",
     "traceback": [
      "\u001b[1;31m---------------------------------------------------------------------------\u001b[0m",
      "\u001b[1;31mFileNotFoundError\u001b[0m                         Traceback (most recent call last)",
      "Cell \u001b[1;32mIn[2], line 1\u001b[0m\n\u001b[1;32m----> 1\u001b[0m dataset\u001b[38;5;241m=\u001b[39mpd\u001b[38;5;241m.\u001b[39mread_csv(\u001b[38;5;124m\"\u001b[39m\u001b[38;5;124mPlacement.csv\u001b[39m\u001b[38;5;124m\"\u001b[39m)\n",
      "File \u001b[1;32mC:\\Kartik\\anaconda3\\envs\\aidl\\Lib\\site-packages\\pandas\\io\\parsers\\readers.py:1026\u001b[0m, in \u001b[0;36mread_csv\u001b[1;34m(filepath_or_buffer, sep, delimiter, header, names, index_col, usecols, dtype, engine, converters, true_values, false_values, skipinitialspace, skiprows, skipfooter, nrows, na_values, keep_default_na, na_filter, verbose, skip_blank_lines, parse_dates, infer_datetime_format, keep_date_col, date_parser, date_format, dayfirst, cache_dates, iterator, chunksize, compression, thousands, decimal, lineterminator, quotechar, quoting, doublequote, escapechar, comment, encoding, encoding_errors, dialect, on_bad_lines, delim_whitespace, low_memory, memory_map, float_precision, storage_options, dtype_backend)\u001b[0m\n\u001b[0;32m   1013\u001b[0m kwds_defaults \u001b[38;5;241m=\u001b[39m _refine_defaults_read(\n\u001b[0;32m   1014\u001b[0m     dialect,\n\u001b[0;32m   1015\u001b[0m     delimiter,\n\u001b[1;32m   (...)\u001b[0m\n\u001b[0;32m   1022\u001b[0m     dtype_backend\u001b[38;5;241m=\u001b[39mdtype_backend,\n\u001b[0;32m   1023\u001b[0m )\n\u001b[0;32m   1024\u001b[0m kwds\u001b[38;5;241m.\u001b[39mupdate(kwds_defaults)\n\u001b[1;32m-> 1026\u001b[0m \u001b[38;5;28;01mreturn\u001b[39;00m _read(filepath_or_buffer, kwds)\n",
      "File \u001b[1;32mC:\\Kartik\\anaconda3\\envs\\aidl\\Lib\\site-packages\\pandas\\io\\parsers\\readers.py:620\u001b[0m, in \u001b[0;36m_read\u001b[1;34m(filepath_or_buffer, kwds)\u001b[0m\n\u001b[0;32m    617\u001b[0m _validate_names(kwds\u001b[38;5;241m.\u001b[39mget(\u001b[38;5;124m\"\u001b[39m\u001b[38;5;124mnames\u001b[39m\u001b[38;5;124m\"\u001b[39m, \u001b[38;5;28;01mNone\u001b[39;00m))\n\u001b[0;32m    619\u001b[0m \u001b[38;5;66;03m# Create the parser.\u001b[39;00m\n\u001b[1;32m--> 620\u001b[0m parser \u001b[38;5;241m=\u001b[39m TextFileReader(filepath_or_buffer, \u001b[38;5;241m*\u001b[39m\u001b[38;5;241m*\u001b[39mkwds)\n\u001b[0;32m    622\u001b[0m \u001b[38;5;28;01mif\u001b[39;00m chunksize \u001b[38;5;129;01mor\u001b[39;00m iterator:\n\u001b[0;32m    623\u001b[0m     \u001b[38;5;28;01mreturn\u001b[39;00m parser\n",
      "File \u001b[1;32mC:\\Kartik\\anaconda3\\envs\\aidl\\Lib\\site-packages\\pandas\\io\\parsers\\readers.py:1620\u001b[0m, in \u001b[0;36mTextFileReader.__init__\u001b[1;34m(self, f, engine, **kwds)\u001b[0m\n\u001b[0;32m   1617\u001b[0m     \u001b[38;5;28mself\u001b[39m\u001b[38;5;241m.\u001b[39moptions[\u001b[38;5;124m\"\u001b[39m\u001b[38;5;124mhas_index_names\u001b[39m\u001b[38;5;124m\"\u001b[39m] \u001b[38;5;241m=\u001b[39m kwds[\u001b[38;5;124m\"\u001b[39m\u001b[38;5;124mhas_index_names\u001b[39m\u001b[38;5;124m\"\u001b[39m]\n\u001b[0;32m   1619\u001b[0m \u001b[38;5;28mself\u001b[39m\u001b[38;5;241m.\u001b[39mhandles: IOHandles \u001b[38;5;241m|\u001b[39m \u001b[38;5;28;01mNone\u001b[39;00m \u001b[38;5;241m=\u001b[39m \u001b[38;5;28;01mNone\u001b[39;00m\n\u001b[1;32m-> 1620\u001b[0m \u001b[38;5;28mself\u001b[39m\u001b[38;5;241m.\u001b[39m_engine \u001b[38;5;241m=\u001b[39m \u001b[38;5;28mself\u001b[39m\u001b[38;5;241m.\u001b[39m_make_engine(f, \u001b[38;5;28mself\u001b[39m\u001b[38;5;241m.\u001b[39mengine)\n",
      "File \u001b[1;32mC:\\Kartik\\anaconda3\\envs\\aidl\\Lib\\site-packages\\pandas\\io\\parsers\\readers.py:1880\u001b[0m, in \u001b[0;36mTextFileReader._make_engine\u001b[1;34m(self, f, engine)\u001b[0m\n\u001b[0;32m   1878\u001b[0m     \u001b[38;5;28;01mif\u001b[39;00m \u001b[38;5;124m\"\u001b[39m\u001b[38;5;124mb\u001b[39m\u001b[38;5;124m\"\u001b[39m \u001b[38;5;129;01mnot\u001b[39;00m \u001b[38;5;129;01min\u001b[39;00m mode:\n\u001b[0;32m   1879\u001b[0m         mode \u001b[38;5;241m+\u001b[39m\u001b[38;5;241m=\u001b[39m \u001b[38;5;124m\"\u001b[39m\u001b[38;5;124mb\u001b[39m\u001b[38;5;124m\"\u001b[39m\n\u001b[1;32m-> 1880\u001b[0m \u001b[38;5;28mself\u001b[39m\u001b[38;5;241m.\u001b[39mhandles \u001b[38;5;241m=\u001b[39m get_handle(\n\u001b[0;32m   1881\u001b[0m     f,\n\u001b[0;32m   1882\u001b[0m     mode,\n\u001b[0;32m   1883\u001b[0m     encoding\u001b[38;5;241m=\u001b[39m\u001b[38;5;28mself\u001b[39m\u001b[38;5;241m.\u001b[39moptions\u001b[38;5;241m.\u001b[39mget(\u001b[38;5;124m\"\u001b[39m\u001b[38;5;124mencoding\u001b[39m\u001b[38;5;124m\"\u001b[39m, \u001b[38;5;28;01mNone\u001b[39;00m),\n\u001b[0;32m   1884\u001b[0m     compression\u001b[38;5;241m=\u001b[39m\u001b[38;5;28mself\u001b[39m\u001b[38;5;241m.\u001b[39moptions\u001b[38;5;241m.\u001b[39mget(\u001b[38;5;124m\"\u001b[39m\u001b[38;5;124mcompression\u001b[39m\u001b[38;5;124m\"\u001b[39m, \u001b[38;5;28;01mNone\u001b[39;00m),\n\u001b[0;32m   1885\u001b[0m     memory_map\u001b[38;5;241m=\u001b[39m\u001b[38;5;28mself\u001b[39m\u001b[38;5;241m.\u001b[39moptions\u001b[38;5;241m.\u001b[39mget(\u001b[38;5;124m\"\u001b[39m\u001b[38;5;124mmemory_map\u001b[39m\u001b[38;5;124m\"\u001b[39m, \u001b[38;5;28;01mFalse\u001b[39;00m),\n\u001b[0;32m   1886\u001b[0m     is_text\u001b[38;5;241m=\u001b[39mis_text,\n\u001b[0;32m   1887\u001b[0m     errors\u001b[38;5;241m=\u001b[39m\u001b[38;5;28mself\u001b[39m\u001b[38;5;241m.\u001b[39moptions\u001b[38;5;241m.\u001b[39mget(\u001b[38;5;124m\"\u001b[39m\u001b[38;5;124mencoding_errors\u001b[39m\u001b[38;5;124m\"\u001b[39m, \u001b[38;5;124m\"\u001b[39m\u001b[38;5;124mstrict\u001b[39m\u001b[38;5;124m\"\u001b[39m),\n\u001b[0;32m   1888\u001b[0m     storage_options\u001b[38;5;241m=\u001b[39m\u001b[38;5;28mself\u001b[39m\u001b[38;5;241m.\u001b[39moptions\u001b[38;5;241m.\u001b[39mget(\u001b[38;5;124m\"\u001b[39m\u001b[38;5;124mstorage_options\u001b[39m\u001b[38;5;124m\"\u001b[39m, \u001b[38;5;28;01mNone\u001b[39;00m),\n\u001b[0;32m   1889\u001b[0m )\n\u001b[0;32m   1890\u001b[0m \u001b[38;5;28;01massert\u001b[39;00m \u001b[38;5;28mself\u001b[39m\u001b[38;5;241m.\u001b[39mhandles \u001b[38;5;129;01mis\u001b[39;00m \u001b[38;5;129;01mnot\u001b[39;00m \u001b[38;5;28;01mNone\u001b[39;00m\n\u001b[0;32m   1891\u001b[0m f \u001b[38;5;241m=\u001b[39m \u001b[38;5;28mself\u001b[39m\u001b[38;5;241m.\u001b[39mhandles\u001b[38;5;241m.\u001b[39mhandle\n",
      "File \u001b[1;32mC:\\Kartik\\anaconda3\\envs\\aidl\\Lib\\site-packages\\pandas\\io\\common.py:873\u001b[0m, in \u001b[0;36mget_handle\u001b[1;34m(path_or_buf, mode, encoding, compression, memory_map, is_text, errors, storage_options)\u001b[0m\n\u001b[0;32m    868\u001b[0m \u001b[38;5;28;01melif\u001b[39;00m \u001b[38;5;28misinstance\u001b[39m(handle, \u001b[38;5;28mstr\u001b[39m):\n\u001b[0;32m    869\u001b[0m     \u001b[38;5;66;03m# Check whether the filename is to be opened in binary mode.\u001b[39;00m\n\u001b[0;32m    870\u001b[0m     \u001b[38;5;66;03m# Binary mode does not support 'encoding' and 'newline'.\u001b[39;00m\n\u001b[0;32m    871\u001b[0m     \u001b[38;5;28;01mif\u001b[39;00m ioargs\u001b[38;5;241m.\u001b[39mencoding \u001b[38;5;129;01mand\u001b[39;00m \u001b[38;5;124m\"\u001b[39m\u001b[38;5;124mb\u001b[39m\u001b[38;5;124m\"\u001b[39m \u001b[38;5;129;01mnot\u001b[39;00m \u001b[38;5;129;01min\u001b[39;00m ioargs\u001b[38;5;241m.\u001b[39mmode:\n\u001b[0;32m    872\u001b[0m         \u001b[38;5;66;03m# Encoding\u001b[39;00m\n\u001b[1;32m--> 873\u001b[0m         handle \u001b[38;5;241m=\u001b[39m \u001b[38;5;28mopen\u001b[39m(\n\u001b[0;32m    874\u001b[0m             handle,\n\u001b[0;32m    875\u001b[0m             ioargs\u001b[38;5;241m.\u001b[39mmode,\n\u001b[0;32m    876\u001b[0m             encoding\u001b[38;5;241m=\u001b[39mioargs\u001b[38;5;241m.\u001b[39mencoding,\n\u001b[0;32m    877\u001b[0m             errors\u001b[38;5;241m=\u001b[39merrors,\n\u001b[0;32m    878\u001b[0m             newline\u001b[38;5;241m=\u001b[39m\u001b[38;5;124m\"\u001b[39m\u001b[38;5;124m\"\u001b[39m,\n\u001b[0;32m    879\u001b[0m         )\n\u001b[0;32m    880\u001b[0m     \u001b[38;5;28;01melse\u001b[39;00m:\n\u001b[0;32m    881\u001b[0m         \u001b[38;5;66;03m# Binary mode\u001b[39;00m\n\u001b[0;32m    882\u001b[0m         handle \u001b[38;5;241m=\u001b[39m \u001b[38;5;28mopen\u001b[39m(handle, ioargs\u001b[38;5;241m.\u001b[39mmode)\n",
      "\u001b[1;31mFileNotFoundError\u001b[0m: [Errno 2] No such file or directory: 'Placement.csv'"
     ]
    }
   ],
   "source": [
    "dataset=pd.read_csv(\"Placement.csv\")"
   ]
  },
  {
   "cell_type": "code",
   "execution_count": null,
   "id": "7673ba77-73f5-4a2c-9b81-5c85489c506f",
   "metadata": {},
   "outputs": [],
   "source": [
    "#1.replace the nan values and justify it"
   ]
  },
  {
   "cell_type": "code",
   "execution_count": null,
   "id": "0c44ae9b-ec24-479d-84e1-aa62550a6312",
   "metadata": {},
   "outputs": [],
   "source": [
    "dataset.isnull().sum()"
   ]
  },
  {
   "cell_type": "code",
   "execution_count": null,
   "id": "72225e9b-2952-4203-b131-cdec85d8893d",
   "metadata": {},
   "outputs": [],
   "source": [
    "dataset[\"salary\"].fillna(0,inplace=True)"
   ]
  },
  {
   "cell_type": "code",
   "execution_count": null,
   "id": "dac0655a-775a-4f9a-ac75-511135a6abfa",
   "metadata": {},
   "outputs": [],
   "source": [
    "dataset.isnull().sum()"
   ]
  },
  {
   "cell_type": "code",
   "execution_count": null,
   "id": "097e7306-63d1-4694-9097-23d525d13553",
   "metadata": {},
   "outputs": [],
   "source": [
    "#2. Howmany of them are not placed?"
   ]
  },
  {
   "cell_type": "code",
   "execution_count": null,
   "id": "aa74014a-3e0e-481c-9774-90d1adc9121b",
   "metadata": {},
   "outputs": [],
   "source": [
    "dataset[\"status\"].value_counts()"
   ]
  },
  {
   "cell_type": "code",
   "execution_count": null,
   "id": "fa1eb2e6-1db4-4f4b-a653-3e6337f0cf1c",
   "metadata": {},
   "outputs": [],
   "source": [
    "#3.reason for non placement(less mba_p marks)"
   ]
  },
  {
   "cell_type": "code",
   "execution_count": null,
   "id": "f64b3935-0e70-40ed-bdfa-63b9f8b3264c",
   "metadata": {},
   "outputs": [],
   "source": [
    "df=pd.DataFrame(dataset)"
   ]
  },
  {
   "cell_type": "code",
   "execution_count": 2,
   "id": "8b227206-dc1c-4c54-9eab-b7087a06566f",
   "metadata": {},
   "outputs": [
    {
     "ename": "NameError",
     "evalue": "name 'df' is not defined",
     "output_type": "error",
     "traceback": [
      "\u001b[1;31m---------------------------------------------------------------------------\u001b[0m",
      "\u001b[1;31mNameError\u001b[0m                                 Traceback (most recent call last)",
      "Cell \u001b[1;32mIn[2], line 4\u001b[0m\n\u001b[0;32m      1\u001b[0m \u001b[38;5;28;01mimport\u001b[39;00m \u001b[38;5;21;01mmatplotlib\u001b[39;00m\u001b[38;5;21;01m.\u001b[39;00m\u001b[38;5;21;01mpyplot\u001b[39;00m \u001b[38;5;28;01mas\u001b[39;00m \u001b[38;5;21;01mplt\u001b[39;00m\n\u001b[0;32m      2\u001b[0m \u001b[38;5;28;01mimport\u001b[39;00m \u001b[38;5;21;01mseaborn\u001b[39;00m \u001b[38;5;28;01mas\u001b[39;00m \u001b[38;5;21;01msns\u001b[39;00m\n\u001b[1;32m----> 4\u001b[0m placed \u001b[38;5;241m=\u001b[39m df[df[\u001b[38;5;124m'\u001b[39m\u001b[38;5;124mstatus\u001b[39m\u001b[38;5;124m'\u001b[39m] \u001b[38;5;241m==\u001b[39m \u001b[38;5;124m'\u001b[39m\u001b[38;5;124mPlaced\u001b[39m\u001b[38;5;124m'\u001b[39m]\n\u001b[0;32m      5\u001b[0m not_placed \u001b[38;5;241m=\u001b[39m df[df[\u001b[38;5;124m'\u001b[39m\u001b[38;5;124mstatus\u001b[39m\u001b[38;5;124m'\u001b[39m] \u001b[38;5;241m==\u001b[39m \u001b[38;5;124m'\u001b[39m\u001b[38;5;124mNot Placed\u001b[39m\u001b[38;5;124m'\u001b[39m]\n\u001b[0;32m      6\u001b[0m columns\u001b[38;5;241m=\u001b[39m[\u001b[38;5;124m'\u001b[39m\u001b[38;5;124mssc_p\u001b[39m\u001b[38;5;124m'\u001b[39m, \u001b[38;5;124m'\u001b[39m\u001b[38;5;124mhsc_p\u001b[39m\u001b[38;5;124m'\u001b[39m, \u001b[38;5;124m'\u001b[39m\u001b[38;5;124metest_p\u001b[39m\u001b[38;5;124m'\u001b[39m, \u001b[38;5;124m'\u001b[39m\u001b[38;5;124mmba_p\u001b[39m\u001b[38;5;124m'\u001b[39m]\n",
      "\u001b[1;31mNameError\u001b[0m: name 'df' is not defined"
     ]
    }
   ],
   "source": [
    "import matplotlib.pyplot as plt\n",
    "import seaborn as sns\n",
    "\n",
    "placed = df[df['status'] == 'Placed']\n",
    "not_placed = df[df['status'] == 'Not Placed']\n",
    "columns=['ssc_p', 'hsc_p', 'etest_p', 'mba_p']\n",
    "\n",
    "descriptive=pd.DataFrame(index=[\"placed\",\"not_placed\",\"diff\"],columns=['ssc_p', 'hsc_p', 'etest_p', 'mba_p'])\n",
    "\n",
    "for columname in columns:  \n",
    "    descriptive[columname][\"placed\"]=placed[columname].mean()\n",
    "    descriptive[columname][\"not_placed\"]=not_placed[columname].mean()\n",
    "    descriptive[columname][\"diff\"]=descriptive[columname][\"placed\"]-descriptive[columname][\"not_placed\"]\n",
    "descriptive\n",
    "plt.figure(figsize=(10, 6))\n",
    "sns.barplot(x=descriptive.columns, y=descriptive[columname][\"diff\"], palette='coolwarm')\n",
    "plt.title('Difference in Key Features Between Placed and Not Placed Students')\n",
    "plt.xlabel('Features')\n",
    "plt.ylabel('Mean Difference')\n",
    "plt.axhline(0, color='black', linestyle='--')\n",
    "plt.show()"
   ]
  },
  {
   "cell_type": "code",
   "execution_count": 13,
   "id": "c802561d-954a-4064-a30b-22fd380bd120",
   "metadata": {},
   "outputs": [],
   "source": [
    "#4. what kind of relationship between mba and salary"
   ]
  },
  {
   "cell_type": "code",
   "execution_count": 14,
   "id": "33df0606-ef07-4349-aca3-1e4ea275324c",
   "metadata": {},
   "outputs": [],
   "source": [
    "correlation=df['mba_p'].corr(df['salary'])"
   ]
  },
  {
   "cell_type": "code",
   "execution_count": 15,
   "id": "6813b976-15ff-4669-937c-b4e5f15119d4",
   "metadata": {},
   "outputs": [
    {
     "data": {
      "text/plain": [
       "0.13982273892615565"
      ]
     },
     "execution_count": 15,
     "metadata": {},
     "output_type": "execute_result"
    }
   ],
   "source": [
    "correlation"
   ]
  },
  {
   "cell_type": "code",
   "execution_count": 16,
   "id": "d23cb60e-1a15-4866-a032-933d17c2a5be",
   "metadata": {},
   "outputs": [],
   "source": [
    "#This value is not close to 1 so negative corr..if mba marks higher salary also get lower."
   ]
  },
  {
   "cell_type": "code",
   "execution_count": 17,
   "id": "5c526ac1-c9ec-4072-a811-255f01504f52",
   "metadata": {},
   "outputs": [],
   "source": [
    "#5. which specialisation is getting min salary?"
   ]
  },
  {
   "cell_type": "code",
   "execution_count": 18,
   "id": "f7807045-2b1d-487a-b005-e429dc4b8b81",
   "metadata": {},
   "outputs": [
    {
     "data": {
      "text/plain": [
       "specialisation\n",
       "Mkt&Fin    120\n",
       "Mkt&HR      95\n",
       "Name: count, dtype: int64"
      ]
     },
     "execution_count": 18,
     "metadata": {},
     "output_type": "execute_result"
    }
   ],
   "source": [
    "dataset['specialisation'].value_counts()"
   ]
  },
  {
   "cell_type": "code",
   "execution_count": 32,
   "id": "4af92401-2e61-4219-9387-9d3da40cf1f9",
   "metadata": {},
   "outputs": [
    {
     "name": "stderr",
     "output_type": "stream",
     "text": [
      "C:\\Users\\argka\\AppData\\Local\\Temp\\ipykernel_17348\\2878713991.py:2: FutureWarning: A value is trying to be set on a copy of a DataFrame or Series through chained assignment using an inplace method.\n",
      "The behavior will change in pandas 3.0. This inplace method will never work because the intermediate object on which we are setting values always behaves as a copy.\n",
      "\n",
      "For example, when doing 'df[col].method(value, inplace=True)', try using 'df.method({col: value}, inplace=True)' or df[col] = df[col].method(value) instead, to perform the operation inplace on the original object.\n",
      "\n",
      "\n",
      "  dataset[\"salary\"].fillna(0,inplace=True)\n"
     ]
    },
    {
     "name": "stdout",
     "output_type": "stream",
     "text": [
      "Minimum Salary by Specialization (Excluding 0):\n",
      "specialisation\n",
      "Mkt&Fin    200000.0\n",
      "Mkt&HR     200000.0\n",
      "Name: salary, dtype: object\n"
     ]
    },
    {
     "data": {
      "image/png": "[encoded data removed]",
      "text/plain": [
       "<Figure size 800x500 with 1 Axes>"
      ]
     },
     "metadata": {},
     "output_type": "display_data"
    }
   ],
   "source": [
    "# Replace 0 in the salary column with NaN (if 0 represents missing data)\n",
    "dataset[\"salary\"].fillna(0,inplace=True)\n",
    "\n",
    "# Drop rows with missing salaries\n",
    "df_clean = df.dropna(subset=['salary'])\n",
    "\n",
    "# Group by specialization and find the minimum salary\n",
    "min_salary_by_specialisation = df_clean.groupby('specialisation')['salary'].min()\n",
    "\n",
    "# Display results\n",
    "print(\"Minimum Salary by Specialization (Excluding 0):\")\n",
    "print(min_salary_by_specialisation)\n",
    "\n",
    "# Visualization\n",
    "min_salary_by_specialisation.plot(kind='bar', color=['skyblue', 'lightcoral'], figsize=(8, 5))\n",
    "plt.title('Minimum Salary by MBA Specialization')\n",
    "plt.xlabel('Specialization')\n",
    "plt.ylabel('Minimum Salary')\n",
    "plt.xticks(rotation=0)\n",
    "plt.show()\n"
   ]
  },
  {
   "cell_type": "markdown",
   "id": "1dbe9ae0-7eb0-4abe-9446-c4ee819394c6",
   "metadata": {},
   "source": [
    "#6. Howmany of them are getting above 500000salary?\n"
   ]
  },
  {
   "cell_type": "code",
   "execution_count": 54,
   "id": "ef9f4ab0-2b03-4de5-a3cb-25c23ec855c6",
   "metadata": {},
   "outputs": [],
   "source": [
    "above_5_lakhs = df[df['salary']>500000]"
   ]
  },
  {
   "cell_type": "code",
   "execution_count": 55,
   "id": "d78afc6d-ee1b-4bcf-a314-5733d7ef8aaf",
   "metadata": {},
   "outputs": [
    {
     "data": {
      "text/html": [
       "<div>\n",
       "<style scoped>\n",
       "    .dataframe tbody tr th:only-of-type {\n",
       "        vertical-align: middle;\n",
       "    }\n",
       "\n",
       "    .dataframe tbody tr th {\n",
       "        vertical-align: top;\n",
       "    }\n",
       "\n",
       "    .dataframe thead th {\n",
       "        text-align: right;\n",
       "    }\n",
       "</style>\n",
       "<table border=\"1\" class=\"dataframe\">\n",
       "  <thead>\n",
       "    <tr style=\"text-align: right;\">\n",
       "      <th></th>\n",
       "      <th>sl_no</th>\n",
       "      <th>gender</th>\n",
       "      <th>ssc_p</th>\n",
       "      <th>ssc_b</th>\n",
       "      <th>hsc_p</th>\n",
       "      <th>hsc_b</th>\n",
       "      <th>hsc_s</th>\n",
       "      <th>degree_p</th>\n",
       "      <th>degree_t</th>\n",
       "      <th>workex</th>\n",
       "      <th>etest_p</th>\n",
       "      <th>specialisation</th>\n",
       "      <th>mba_p</th>\n",
       "      <th>status</th>\n",
       "      <th>salary</th>\n",
       "    </tr>\n",
       "  </thead>\n",
       "  <tbody>\n",
       "    <tr>\n",
       "      <th>119</th>\n",
       "      <td>120</td>\n",
       "      <td>M</td>\n",
       "      <td>60.8</td>\n",
       "      <td>Central</td>\n",
       "      <td>68.40</td>\n",
       "      <td>Central</td>\n",
       "      <td>Commerce</td>\n",
       "      <td>64.6</td>\n",
       "      <td>Comm&amp;Mgmt</td>\n",
       "      <td>Yes</td>\n",
       "      <td>82.66</td>\n",
       "      <td>Mkt&amp;Fin</td>\n",
       "      <td>64.34</td>\n",
       "      <td>Placed</td>\n",
       "      <td>940000.0</td>\n",
       "    </tr>\n",
       "    <tr>\n",
       "      <th>150</th>\n",
       "      <td>151</td>\n",
       "      <td>M</td>\n",
       "      <td>71.0</td>\n",
       "      <td>Central</td>\n",
       "      <td>58.66</td>\n",
       "      <td>Central</td>\n",
       "      <td>Science</td>\n",
       "      <td>58.0</td>\n",
       "      <td>Sci&amp;Tech</td>\n",
       "      <td>Yes</td>\n",
       "      <td>56.00</td>\n",
       "      <td>Mkt&amp;Fin</td>\n",
       "      <td>61.30</td>\n",
       "      <td>Placed</td>\n",
       "      <td>690000.0</td>\n",
       "    </tr>\n",
       "    <tr>\n",
       "      <th>177</th>\n",
       "      <td>178</td>\n",
       "      <td>F</td>\n",
       "      <td>73.0</td>\n",
       "      <td>Central</td>\n",
       "      <td>97.00</td>\n",
       "      <td>Others</td>\n",
       "      <td>Commerce</td>\n",
       "      <td>79.0</td>\n",
       "      <td>Comm&amp;Mgmt</td>\n",
       "      <td>Yes</td>\n",
       "      <td>89.00</td>\n",
       "      <td>Mkt&amp;Fin</td>\n",
       "      <td>70.81</td>\n",
       "      <td>Placed</td>\n",
       "      <td>650000.0</td>\n",
       "    </tr>\n",
       "  </tbody>\n",
       "</table>\n",
       "</div>"
      ],
      "text/plain": [
       "     sl_no gender  ssc_p    ssc_b  hsc_p    hsc_b     hsc_s  degree_p  \\\n",
       "119    120      M   60.8  Central  68.40  Central  Commerce      64.6   \n",
       "150    151      M   71.0  Central  58.66  Central   Science      58.0   \n",
       "177    178      F   73.0  Central  97.00   Others  Commerce      79.0   \n",
       "\n",
       "      degree_t workex  etest_p specialisation  mba_p  status    salary  \n",
       "119  Comm&Mgmt    Yes    82.66        Mkt&Fin  64.34  Placed  940000.0  \n",
       "150   Sci&Tech    Yes    56.00        Mkt&Fin  61.30  Placed  690000.0  \n",
       "177  Comm&Mgmt    Yes    89.00        Mkt&Fin  70.81  Placed  650000.0  "
      ]
     },
     "execution_count": 55,
     "metadata": {},
     "output_type": "execute_result"
    }
   ],
   "source": [
    "above_5_lakhs"
   ]
  },
  {
   "cell_type": "code",
   "execution_count": 52,
   "id": "ae9044f1-8a54-4f75-99d0-542aa3c7e943",
   "metadata": {},
   "outputs": [],
   "source": [
    "above_5_lakhs = df[df['salary']>500000].shape[0]"
   ]
  },
  {
   "cell_type": "code",
   "execution_count": 53,
   "id": "fb872bdc-e98b-4d17-8345-c481b2808e7d",
   "metadata": {},
   "outputs": [
    {
     "data": {
      "text/plain": [
       "3"
      ]
     },
     "execution_count": 53,
     "metadata": {},
     "output_type": "execute_result"
    }
   ],
   "source": [
    "above_5_lakhs"
   ]
  },
  {
   "cell_type": "code",
   "execution_count": 22,
   "id": "5fe30e59-e5c5-4c3e-8358-a38cc19c62c0",
   "metadata": {},
   "outputs": [],
   "source": [
    "#Anavo etest and mba\n",
    "\n",
    "import scipy.stats as stats\n",
    "\n",
    "f_stat, p_value =stats.f_oneway(df['etest_p'], df['mba_p'])\n",
    "\n",
    "\n"
   ]
  },
  {
   "cell_type": "code",
   "execution_count": 23,
   "id": "89ce96e5-d52f-42c9-aaef-7a6ac5a28df9",
   "metadata": {},
   "outputs": [
    {
     "name": "stdout",
     "output_type": "stream",
     "text": [
      "Reject the null hypothesis: Significant difference exists between etest_p and mba_p.\n"
     ]
    }
   ],
   "source": [
    "value= 0.05\n",
    "if p_value <= value:\n",
    "    print(\"Reject the null hypothesis: Significant difference exists between etest_p and mba_p.\")\n",
    "else:\n",
    "    print(\"Fail to reject the null hypothesis: No significant difference between etest_p and mba_p.\")\n",
    "\n"
   ]
  },
  {
   "cell_type": "code",
   "execution_count": 24,
   "id": "2659032e-0612-452d-9d25-15a7a26cee30",
   "metadata": {},
   "outputs": [],
   "source": [
    "# 7.T_test degree,specialisation with salary"
   ]
  },
  {
   "cell_type": "code",
   "execution_count": 25,
   "id": "afbe40ec-b276-4d7f-a243-7cf3047a26ca",
   "metadata": {},
   "outputs": [
    {
     "data": {
      "text/plain": [
       "TtestResult(statistic=2.692041243555374, pvalue=0.007897969943471179, df=152.0)"
      ]
     },
     "execution_count": 25,
     "metadata": {},
     "output_type": "execute_result"
    }
   ],
   "source": [
    "from scipy.stats import ttest_ind\n",
    "dataset=dataset.dropna()\n",
    "degree = dataset[dataset['degree_t']=='Sci&Tech']['salary']\n",
    "special= dataset[dataset['specialisation']=='Mkt&HR']['salary']\n",
    "#print(male)\n",
    "ttest_ind(degree, special)"
   ]
  },
  {
   "cell_type": "code",
   "execution_count": 26,
   "id": "cb17375d-c59a-42fc-8fed-508b2bb35a80",
   "metadata": {},
   "outputs": [],
   "source": [
    "# result =There is significant difff exists bw etst and spe with salary"
   ]
  },
  {
   "cell_type": "code",
   "execution_count": 27,
   "id": "0d02dc96-6970-474c-b79f-e36e30c8b741",
   "metadata": {},
   "outputs": [],
   "source": [
    "#8. Z_score(normal distribution to std normal distribution"
   ]
  },
  {
   "cell_type": "markdown",
   "id": "f69ba2d2-bd74-4e65-97b7-98fbbd60ac35",
   "metadata": {},
   "source": [
    "clean_salary=df[\"salary\"].dropna()"
   ]
  },
  {
   "cell_type": "code",
   "execution_count": null,
   "id": "dcbb14b1-2a15-40f2-be33-0301e8c5d18c",
   "metadata": {},
   "outputs": [],
   "source": [
    "mean_salary=df[\"salary\"].mean()"
   ]
  },
  {
   "cell_type": "code",
   "execution_count": null,
   "id": "df223f05-efbc-4897-9869-15f20af112a9",
   "metadata": {},
   "outputs": [],
   "source": [
    "mean_salary"
   ]
  },
  {
   "cell_type": "code",
   "execution_count": null,
   "id": "de995370-bc34-4661-9fee-548711165680",
   "metadata": {},
   "outputs": [],
   "source": [
    "std_salary=df[\"salary\"].std()"
   ]
  },
  {
   "cell_type": "code",
   "execution_count": null,
   "id": "125e51cb-7df3-4e3d-8dd1-7a82ed9093e1",
   "metadata": {},
   "outputs": [],
   "source": [
    "std_salary"
   ]
  },
  {
   "cell_type": "code",
   "execution_count": null,
   "id": "2f09f41f-c71e-447f-962e-25fd898ea957",
   "metadata": {},
   "outputs": [],
   "source": [
    "z_score=(clean_salary-mean_salary)/std_salary"
   ]
  },
  {
   "cell_type": "code",
   "execution_count": null,
   "id": "ea0104cd-fdbd-4edd-bc07-4682f05fca76",
   "metadata": {},
   "outputs": [],
   "source": [
    "z_score"
   ]
  },
  {
   "cell_type": "code",
   "execution_count": null,
   "id": "5c23d2d5-6f39-472b-b0bc-6e2b0c433dd2",
   "metadata": {},
   "outputs": [],
   "source": [
    "#From z_score negative values are below mean,positive values are above mean"
   ]
  },
  {
   "cell_type": "code",
   "execution_count": null,
   "id": "e7e93c42-b2b2-4972-90c8-6314ef4b4dab",
   "metadata": {},
   "outputs": [],
   "source": [
    "#9. PDF for salary range 5l to 7l?"
   ]
  },
  {
   "cell_type": "code",
   "execution_count": null,
   "id": "b8fb76f5-6e3d-4f9b-a854-b95d94d1549e",
   "metadata": {},
   "outputs": [],
   "source": [
    "salary_range = np.linspace(700000, 900000, 100)\n",
    "from scipy.stats import norm\n",
    "\n"
   ]
  },
  {
   "cell_type": "code",
   "execution_count": null,
   "id": "44be10fb-a34e-4fb4-8b9b-edc66c190107",
   "metadata": {},
   "outputs": [],
   "source": [
    "pdf_values = norm.pdf(salary_range, mean_salary, std_salary)\n"
   ]
  },
  {
   "cell_type": "code",
   "execution_count": null,
   "id": "598d4da0-b3a1-4432-993e-a4338f78449a",
   "metadata": {},
   "outputs": [],
   "source": [
    "pdf_values\n"
   ]
  },
  {
   "cell_type": "code",
   "execution_count": null,
   "id": "ace8823d-c945-43ff-aed2-c6d9390b9ace",
   "metadata": {},
   "outputs": [],
   "source": [
    "plt.figure(figsize=(8, 5))\n",
    "plt.plot(salary_range, pdf_values, label='PDF', color='blue')\n",
    "plt.title('Probability Density Function for Salary')\n",
    "plt.xlabel('Salary')\n",
    "plt.ylabel('Density')\n",
    "plt.grid()\n",
    "plt.legend()\n",
    "plt.show()"
   ]
  },
  {
   "cell_type": "code",
   "execution_count": null,
   "id": "f40d2f9b-f136-41f0-93bb-d5deab8023b0",
   "metadata": {},
   "outputs": [],
   "source": [
    "#10.paired T_test"
   ]
  },
  {
   "cell_type": "code",
   "execution_count": null,
   "id": "74b038f4-eddc-4a9a-b131-37fa8199636a",
   "metadata": {},
   "outputs": [],
   "source": [
    "from scipy.stats import ttest_rel\n",
    "dataset=dataset.dropna()\n",
    "etest = dataset[dataset['degree_t']=='Sci&Tech']['etest_p']\n",
    "mba_p= dataset[dataset['degree_t']=='Sci&Tech']['mba_p']\n",
    "#print(male)\n",
    "ttest_ind(etest,mba_p)"
   ]
  },
  {
   "cell_type": "code",
   "execution_count": null,
   "id": "c7735a00-ebbf-4544-b949-911d7341ef2d",
   "metadata": {},
   "outputs": [],
   "source": [
    "#There is no significant diff bw sci&tech with etest_p,mba_p "
   ]
  },
  {
   "cell_type": "code",
   "execution_count": null,
   "id": "c077f547-00e6-4481-bccc-b522c4bac974",
   "metadata": {},
   "outputs": [],
   "source": [
    "#11.Which parameter is highly correlated with salary?"
   ]
  },
  {
   "cell_type": "code",
   "execution_count": null,
   "id": "8b4be21a-561c-4197-bce8-6e79e924e24f",
   "metadata": {},
   "outputs": [],
   "source": [
    "df=pd.DataFrame(dataset)\n",
    "df=pd.get_dummies(df,drop_first=True)"
   ]
  },
  {
   "cell_type": "code",
   "execution_count": null,
   "id": "257c91a6-b7e6-4030-beb7-82bc384bb4ac",
   "metadata": {},
   "outputs": [],
   "source": [
    " \n",
    "correlations = df.corr()\n",
    "\n",
    "# Extract correlation of all features with salary\n",
    "salary_correlation = correlations['salary'].sort_values(ascending=True)\n",
    "\n",
    "# Print the correlations\n",
    "print(\"Correlation of parameters with salary:\")\n",
    "print(salary_correlation)\n"
   ]
  },
  {
   "cell_type": "code",
   "execution_count": null,
   "id": "cf0bb79d-f90e-4015-9d1e-507358cbf6ab",
   "metadata": {},
   "outputs": [],
   "source": [
    "#salary is highly correlated with placement status"
   ]
  },
  {
   "cell_type": "code",
   "execution_count": null,
   "id": "0055d162-0234-4b19-bf89-d13fecc40902",
   "metadata": {},
   "outputs": [],
   "source": [
    "#12.Plot any useful graph and explain"
   ]
  },
  {
   "cell_type": "code",
   "execution_count": null,
   "id": "f86db87c-e753-4ed6-af3c-433ee006c0f0",
   "metadata": {},
   "outputs": [],
   "source": [
    "import matplotlib.pyplot as plt\n",
    "import seaborn as sns\n",
    "\n",
    "# Load salary data, dropping NaN values\n",
    "salary = df['salary'].dropna()\n",
    "\n",
    "# Set up the figure\n",
    "plt.figure(figsize=(12, 6))\n",
    "\n",
    "# Subplot 1: Histogram of Salary\n",
    "plt.subplot(1, 2, 1)\n",
    "sns.histplot(salary, bins=15, kde=True, color='blue')\n",
    "plt.title('Salary Distribution')\n",
    "plt.xlabel('Salary')\n",
    "plt.ylabel('Frequency')\n",
    "\n",
    "\n",
    "\n",
    "# Show the plots\n",
    "plt.tight_layout()\n",
    "plt.show()"
   ]
  },
  {
   "cell_type": "code",
   "execution_count": 29,
   "id": "9915ad05-d9d6-47d8-84f6-c64cd4ff43dd",
   "metadata": {
    "scrolled": true
   },
   "outputs": [
    {
     "name": "stderr",
     "output_type": "stream",
     "text": [
      "C:\\Users\\argka\\AppData\\Local\\Temp\\ipykernel_17348\\965210320.py:11: FutureWarning: ChainedAssignmentError: behaviour will change in pandas 3.0!\n",
      "You are setting values through chained assignment. Currently this works in certain cases, but when using Copy-on-Write (which will become the default behaviour in pandas 3.0) this will never work to update the original DataFrame or Series, because the intermediate object on which we are setting values will behave as a copy.\n",
      "A typical example is when you are setting values in a column of a DataFrame, like:\n",
      "\n",
      "df[\"col\"][row_indexer] = value\n",
      "\n",
      "Use `df.loc[row_indexer, \"col\"] = values` instead, to perform the assignment in a single step and ensure this keeps updating the original `df`.\n",
      "\n",
      "See the caveats in the documentation: https://pandas.pydata.org/pandas-docs/stable/user_guide/indexing.html#returning-a-view-versus-a-copy\n",
      "\n",
      "  descriptive[columname][\"placed\"]=placed[columname].mean()\n",
      "C:\\Users\\argka\\AppData\\Local\\Temp\\ipykernel_17348\\965210320.py:12: FutureWarning: ChainedAssignmentError: behaviour will change in pandas 3.0!\n",
      "You are setting values through chained assignment. Currently this works in certain cases, but when using Copy-on-Write (which will become the default behaviour in pandas 3.0) this will never work to update the original DataFrame or Series, because the intermediate object on which we are setting values will behave as a copy.\n",
      "A typical example is when you are setting values in a column of a DataFrame, like:\n",
      "\n",
      "df[\"col\"][row_indexer] = value\n",
      "\n",
      "Use `df.loc[row_indexer, \"col\"] = values` instead, to perform the assignment in a single step and ensure this keeps updating the original `df`.\n",
      "\n",
      "See the caveats in the documentation: https://pandas.pydata.org/pandas-docs/stable/user_guide/indexing.html#returning-a-view-versus-a-copy\n",
      "\n",
      "  descriptive[columname][\"not_placed\"]=not_placed[columname].mean()\n",
      "C:\\Users\\argka\\AppData\\Local\\Temp\\ipykernel_17348\\965210320.py:13: FutureWarning: ChainedAssignmentError: behaviour will change in pandas 3.0!\n",
      "You are setting values through chained assignment. Currently this works in certain cases, but when using Copy-on-Write (which will become the default behaviour in pandas 3.0) this will never work to update the original DataFrame or Series, because the intermediate object on which we are setting values will behave as a copy.\n",
      "A typical example is when you are setting values in a column of a DataFrame, like:\n",
      "\n",
      "df[\"col\"][row_indexer] = value\n",
      "\n",
      "Use `df.loc[row_indexer, \"col\"] = values` instead, to perform the assignment in a single step and ensure this keeps updating the original `df`.\n",
      "\n",
      "See the caveats in the documentation: https://pandas.pydata.org/pandas-docs/stable/user_guide/indexing.html#returning-a-view-versus-a-copy\n",
      "\n",
      "  descriptive[columname][\"diff\"]=descriptive[columname][\"placed\"]-descriptive[columname][\"not_placed\"]\n",
      "C:\\Users\\argka\\AppData\\Local\\Temp\\ipykernel_17348\\965210320.py:16: FutureWarning: \n",
      "\n",
      "Passing `palette` without assigning `hue` is deprecated and will be removed in v0.14.0. Assign the `x` variable to `hue` and set `legend=False` for the same effect.\n",
      "\n",
      "  sns.barplot(x=descriptive.columns, y=descriptive[columname][\"diff\"], palette='coolwarm')\n"
     ]
    },
    {
     "data": {
      "image/png": "[encoded data removed]",
      "text/plain": [
       "<Figure size 1000x600 with 1 Axes>"
      ]
     },
     "metadata": {},
     "output_type": "display_data"
    }
   ],
   "source": []
  },
  {
   "cell_type": "code",
   "execution_count": null,
   "id": "10d740f9-7a2c-46d3-8ac1-9b58889d02d2",
   "metadata": {},
   "outputs": [],
   "source": [
    "descriptive"
   ]
  },
  {
   "cell_type": "code",
   "execution_count": null,
   "id": "71ef1800-7a93-48d5-9959-ff19e0189760",
   "metadata": {},
   "outputs": [],
   "source": []
  }
 ],
 "metadata": {
  "kernelspec": {
   "display_name": "Python 3 (ipykernel)",
   "language": "python",
   "name": "python3"
  },
  "language_info": {
   "codemirror_mode": {
    "name": "ipython",
    "version": 3
   },
   "file_extension": ".py",
   "mimetype": "text/x-python",
   "name": "python",
   "nbconvert_exporter": "python",
   "pygments_lexer": "ipython3",
   "version": "3.11.5"
  }
 },
 "nbformat": 4,
 "nbformat_minor": 5
}

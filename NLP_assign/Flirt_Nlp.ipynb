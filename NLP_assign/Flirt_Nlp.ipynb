{
 "cells": [
  {
   "cell_type": "code",
   "execution_count": 1,
   "id": "930d6140",
   "metadata": {},
   "outputs": [],
   "source": [
    "import pandas as pd\n",
    "from sklearn.model_selection import train_test_split\n",
    "from sklearn.feature_extraction.text import CountVectorizer, TfidfVectorizer\n",
    "from sklearn.naive_bayes import MultinomialNB\n",
    "from sklearn.linear_model import LogisticRegression\n",
    "from sklearn.metrics import classification_report\n"
   ]
  },
  {
   "cell_type": "code",
   "execution_count": 63,
   "id": "549c5879",
   "metadata": {},
   "outputs": [],
   "source": [
    "df=pd.read_csv(\"Flirt_predict.csv\")"
   ]
  },
  {
   "cell_type": "code",
   "execution_count": 64,
   "id": "97f95348",
   "metadata": {},
   "outputs": [
    {
     "data": {
      "text/html": [
       "<div>\n",
       "<style scoped>\n",
       "    .dataframe tbody tr th:only-of-type {\n",
       "        vertical-align: middle;\n",
       "    }\n",
       "\n",
       "    .dataframe tbody tr th {\n",
       "        vertical-align: top;\n",
       "    }\n",
       "\n",
       "    .dataframe thead th {\n",
       "        text-align: right;\n",
       "    }\n",
       "</style>\n",
       "<table border=\"1\" class=\"dataframe\">\n",
       "  <thead>\n",
       "    <tr style=\"text-align: right;\">\n",
       "      <th></th>\n",
       "      <th>Unnamed: 0</th>\n",
       "      <th>Unnamed: 1</th>\n",
       "      <th>Unnamed: 2</th>\n",
       "      <th>Unnamed: 3</th>\n",
       "      <th>Unnamed: 4</th>\n",
       "      <th>Unnamed: 5</th>\n",
       "      <th>Unnamed: 6</th>\n",
       "      <th>Unnamed: 7</th>\n",
       "      <th>Unnamed: 8</th>\n",
       "      <th>Unnamed: 9</th>\n",
       "    </tr>\n",
       "  </thead>\n",
       "  <tbody>\n",
       "    <tr>\n",
       "      <th>0</th>\n",
       "      <td>TEXT</td>\n",
       "      <td>NaN</td>\n",
       "      <td>NaN</td>\n",
       "      <td>NaN</td>\n",
       "      <td>NaN</td>\n",
       "      <td>NaN</td>\n",
       "      <td>NaN</td>\n",
       "      <td>NaN</td>\n",
       "      <td>NaN</td>\n",
       "      <td>LABEL</td>\n",
       "    </tr>\n",
       "    <tr>\n",
       "      <th>1</th>\n",
       "      <td>1. \"Is your name Google? Because you have ever...</td>\n",
       "      <td>NaN</td>\n",
       "      <td>NaN</td>\n",
       "      <td>NaN</td>\n",
       "      <td>NaN</td>\n",
       "      <td>NaN</td>\n",
       "      <td>NaN</td>\n",
       "      <td>NaN</td>\n",
       "      <td>NaN</td>\n",
       "      <td>1</td>\n",
       "    </tr>\n",
       "    <tr>\n",
       "      <th>2</th>\n",
       "      <td>2. \"Do you believe in love at first sight, or ...</td>\n",
       "      <td>NaN</td>\n",
       "      <td>NaN</td>\n",
       "      <td>NaN</td>\n",
       "      <td>NaN</td>\n",
       "      <td>NaN</td>\n",
       "      <td>NaN</td>\n",
       "      <td>NaN</td>\n",
       "      <td>NaN</td>\n",
       "      <td>1</td>\n",
       "    </tr>\n",
       "    <tr>\n",
       "      <th>3</th>\n",
       "      <td>3. \"Are you a parking ticket? Because you've g...</td>\n",
       "      <td>NaN</td>\n",
       "      <td>NaN</td>\n",
       "      <td>NaN</td>\n",
       "      <td>NaN</td>\n",
       "      <td>NaN</td>\n",
       "      <td>NaN</td>\n",
       "      <td>NaN</td>\n",
       "      <td>NaN</td>\n",
       "      <td>1</td>\n",
       "    </tr>\n",
       "    <tr>\n",
       "      <th>4</th>\n",
       "      <td>4. \"I seem to have lost my phone number. Can I...</td>\n",
       "      <td>NaN</td>\n",
       "      <td>NaN</td>\n",
       "      <td>NaN</td>\n",
       "      <td>NaN</td>\n",
       "      <td>NaN</td>\n",
       "      <td>NaN</td>\n",
       "      <td>NaN</td>\n",
       "      <td>NaN</td>\n",
       "      <td>1</td>\n",
       "    </tr>\n",
       "    <tr>\n",
       "      <th>...</th>\n",
       "      <td>...</td>\n",
       "      <td>...</td>\n",
       "      <td>...</td>\n",
       "      <td>...</td>\n",
       "      <td>...</td>\n",
       "      <td>...</td>\n",
       "      <td>...</td>\n",
       "      <td>...</td>\n",
       "      <td>...</td>\n",
       "      <td>...</td>\n",
       "    </tr>\n",
       "    <tr>\n",
       "      <th>96</th>\n",
       "      <td>96. \"I'm trying to find a good restaurant.\" (N...</td>\n",
       "      <td>NaN</td>\n",
       "      <td>NaN</td>\n",
       "      <td>NaN</td>\n",
       "      <td>NaN</td>\n",
       "      <td>NaN</td>\n",
       "      <td>NaN</td>\n",
       "      <td>NaN</td>\n",
       "      <td>NaN</td>\n",
       "      <td>0</td>\n",
       "    </tr>\n",
       "    <tr>\n",
       "      <th>97</th>\n",
       "      <td>97. \"Can you give me directions?\" (Not Flirt)</td>\n",
       "      <td>NaN</td>\n",
       "      <td>NaN</td>\n",
       "      <td>NaN</td>\n",
       "      <td>NaN</td>\n",
       "      <td>NaN</td>\n",
       "      <td>NaN</td>\n",
       "      <td>NaN</td>\n",
       "      <td>NaN</td>\n",
       "      <td>0</td>\n",
       "    </tr>\n",
       "    <tr>\n",
       "      <th>98</th>\n",
       "      <td>98. \"What's the history of this building?\" (No...</td>\n",
       "      <td>Generate Audio Overview</td>\n",
       "      <td>NaN</td>\n",
       "      <td>NaN</td>\n",
       "      <td>NaN</td>\n",
       "      <td>NaN</td>\n",
       "      <td>NaN</td>\n",
       "      <td>NaN</td>\n",
       "      <td>NaN</td>\n",
       "      <td>0</td>\n",
       "    </tr>\n",
       "    <tr>\n",
       "      <th>99</th>\n",
       "      <td>99. \"I need to return this book to the library...</td>\n",
       "      <td>NaN</td>\n",
       "      <td>NaN</td>\n",
       "      <td>NaN</td>\n",
       "      <td>NaN</td>\n",
       "      <td>NaN</td>\n",
       "      <td>NaN</td>\n",
       "      <td>NaN</td>\n",
       "      <td>NaN</td>\n",
       "      <td>0</td>\n",
       "    </tr>\n",
       "    <tr>\n",
       "      <th>100</th>\n",
       "      <td>100. \"Do you have any spare change?\" (Not Flirt)</td>\n",
       "      <td>NaN</td>\n",
       "      <td>NaN</td>\n",
       "      <td>NaN</td>\n",
       "      <td>NaN</td>\n",
       "      <td>NaN</td>\n",
       "      <td>NaN</td>\n",
       "      <td>NaN</td>\n",
       "      <td>NaN</td>\n",
       "      <td>0</td>\n",
       "    </tr>\n",
       "  </tbody>\n",
       "</table>\n",
       "<p>101 rows × 10 columns</p>\n",
       "</div>"
      ],
      "text/plain": [
       "                                            Unnamed: 0  \\\n",
       "0                                                 TEXT   \n",
       "1    1. \"Is your name Google? Because you have ever...   \n",
       "2    2. \"Do you believe in love at first sight, or ...   \n",
       "3    3. \"Are you a parking ticket? Because you've g...   \n",
       "4    4. \"I seem to have lost my phone number. Can I...   \n",
       "..                                                 ...   \n",
       "96   96. \"I'm trying to find a good restaurant.\" (N...   \n",
       "97       97. \"Can you give me directions?\" (Not Flirt)   \n",
       "98   98. \"What's the history of this building?\" (No...   \n",
       "99   99. \"I need to return this book to the library...   \n",
       "100   100. \"Do you have any spare change?\" (Not Flirt)   \n",
       "\n",
       "                   Unnamed: 1  Unnamed: 2  Unnamed: 3  Unnamed: 4  Unnamed: 5  \\\n",
       "0                         NaN         NaN         NaN         NaN         NaN   \n",
       "1                         NaN         NaN         NaN         NaN         NaN   \n",
       "2                         NaN         NaN         NaN         NaN         NaN   \n",
       "3                         NaN         NaN         NaN         NaN         NaN   \n",
       "4                         NaN         NaN         NaN         NaN         NaN   \n",
       "..                        ...         ...         ...         ...         ...   \n",
       "96                        NaN         NaN         NaN         NaN         NaN   \n",
       "97                        NaN         NaN         NaN         NaN         NaN   \n",
       "98   Generate Audio Overview          NaN         NaN         NaN         NaN   \n",
       "99                        NaN         NaN         NaN         NaN         NaN   \n",
       "100                       NaN         NaN         NaN         NaN         NaN   \n",
       "\n",
       "     Unnamed: 6  Unnamed: 7  Unnamed: 8 Unnamed: 9  \n",
       "0           NaN         NaN         NaN      LABEL  \n",
       "1           NaN         NaN         NaN          1  \n",
       "2           NaN         NaN         NaN          1  \n",
       "3           NaN         NaN         NaN          1  \n",
       "4           NaN         NaN         NaN          1  \n",
       "..          ...         ...         ...        ...  \n",
       "96          NaN         NaN         NaN          0  \n",
       "97          NaN         NaN         NaN          0  \n",
       "98          NaN         NaN         NaN          0  \n",
       "99          NaN         NaN         NaN          0  \n",
       "100         NaN         NaN         NaN          0  \n",
       "\n",
       "[101 rows x 10 columns]"
      ]
     },
     "execution_count": 64,
     "metadata": {},
     "output_type": "execute_result"
    }
   ],
   "source": [
    "df"
   ]
  },
  {
   "cell_type": "code",
   "execution_count": 65,
   "id": "c2e95a28",
   "metadata": {},
   "outputs": [
    {
     "name": "stdout",
     "output_type": "stream",
     "text": [
      "Unnamed: 0      0\n",
      "Unnamed: 1    100\n",
      "Unnamed: 2    101\n",
      "Unnamed: 3    101\n",
      "Unnamed: 4    101\n",
      "Unnamed: 5    101\n",
      "Unnamed: 6    101\n",
      "Unnamed: 7    101\n",
      "Unnamed: 8    101\n",
      "Unnamed: 9      0\n",
      "dtype: int64\n"
     ]
    }
   ],
   "source": [
    "print(df.isnull().sum()) "
   ]
  },
  {
   "cell_type": "code",
   "execution_count": 88,
   "id": "dc711cbe",
   "metadata": {},
   "outputs": [
    {
     "name": "stdout",
     "output_type": "stream",
     "text": [
      "['TEXT', 'LABEL']\n"
     ]
    }
   ],
   "source": [
    "print(df.columns.tolist())\n"
   ]
  },
  {
   "cell_type": "code",
   "execution_count": 93,
   "id": "7d959b85",
   "metadata": {},
   "outputs": [],
   "source": [
    "df.columns = df.columns.str.strip()\n"
   ]
  },
  {
   "cell_type": "code",
   "execution_count": 95,
   "id": "7ca2797d",
   "metadata": {},
   "outputs": [],
   "source": [
    "texts = df.iloc[1:, 0]   # First column\n",
    "labels = df.iloc[1:, -1] # Last column\n"
   ]
  },
  {
   "cell_type": "code",
   "execution_count": 96,
   "id": "4775117d",
   "metadata": {},
   "outputs": [
    {
     "name": "stdout",
     "output_type": "stream",
     "text": [
      "                                                text  label\n",
      "0  \"Is your name Google? Because you have everyth...      1\n",
      "1  \"Do you believe in love at first sight, or sho...      1\n",
      "2  \"Are you a parking ticket? Because you've got ...      1\n",
      "3  \"I seem to have lost my phone number. Can I ha...      1\n",
      "4  \"If you were a vegetable, you'd be a cute-cumb...      1\n"
     ]
    }
   ],
   "source": [
    "import pandas as pd\n",
    "\n",
    "# Load file\n",
    "df = pd.read_csv(\"Flirt_predict.csv\")\n",
    "\n",
    "# Clean column names\n",
    "df.columns = df.columns.str.strip()\n",
    "\n",
    "# Extract and clean data\n",
    "texts = df.iloc[1:, 0].str.replace(r'^\\d+\\.\\s*', '', regex=True)\n",
    "labels = df.iloc[1:, -1].astype(int)\n",
    "\n",
    "# Create cleaned DataFrame\n",
    "df_cleaned = pd.DataFrame({\n",
    "    'text': texts,\n",
    "    'label': labels\n",
    "}).reset_index(drop=True)\n",
    "\n",
    "print(df_cleaned.head())\n"
   ]
  },
  {
   "cell_type": "code",
   "execution_count": 100,
   "id": "6fecf261",
   "metadata": {},
   "outputs": [
    {
     "name": "stdout",
     "output_type": "stream",
     "text": [
      "Total samples: 100\n",
      "\n",
      "Label distribution:\n",
      "label\n",
      "1    50\n",
      "0    50\n",
      "Name: count, dtype: int64\n",
      "\n",
      "Missing values:\n",
      " text     0\n",
      "label    0\n",
      "dtype: int64\n"
     ]
    }
   ],
   "source": [
    "# Number of samples\n",
    "print(\"Total samples:\", len(df_cleaned))\n",
    "\n",
    "# Class distribution\n",
    "print(\"\\nLabel distribution:\")\n",
    "print(df_cleaned['label'].value_counts())\n",
    "\n",
    "# Check for missing values\n",
    "print(\"\\nMissing values:\\n\", df_cleaned.isnull().sum())\n"
   ]
  },
  {
   "cell_type": "code",
   "execution_count": 101,
   "id": "db74d832",
   "metadata": {},
   "outputs": [
    {
     "data": {
      "image/png": "[encoded data removed]",
      "text/plain": [
       "<Figure size 640x480 with 1 Axes>"
      ]
     },
     "metadata": {},
     "output_type": "display_data"
    }
   ],
   "source": [
    "import matplotlib.pyplot as plt\n",
    "\n",
    "df_cleaned['label'].value_counts().plot(kind='bar', color=['skyblue', 'salmon'])\n",
    "plt.title('Label Distribution (Flirt=1, Not Flirt=0)')\n",
    "plt.xlabel('Label')\n",
    "plt.ylabel('Count')\n",
    "plt.xticks(rotation=0)\n",
    "plt.show()\n"
   ]
  },
  {
   "cell_type": "code",
   "execution_count": 106,
   "id": "7a5db843",
   "metadata": {},
   "outputs": [],
   "source": [
    "from sklearn.model_selection import train_test_split\n",
    "from sklearn.feature_extraction.text import TfidfVectorizer\n",
    "\n",
    "# Split into features and labels\n",
    "X = df_cleaned['text']\n",
    "y = df_cleaned['label']\n",
    "\n",
    "# Train/test split\n",
    "X_train, X_test, y_train, y_test = train_test_split(X, y, test_size=0.2, random_state=42)\n",
    "\n",
    "# Convert text to TF-IDF features\n",
    "vectorizer = TfidfVectorizer(stop_words='english', max_features=500)\n",
    "X_train_tfidf = vectorizer.fit_transform(X_train)\n",
    "X_test_tfidf = vectorizer.transform(X_test)\n"
   ]
  },
  {
   "cell_type": "code",
   "execution_count": 110,
   "id": "1d4bd742",
   "metadata": {},
   "outputs": [
    {
     "name": "stdout",
     "output_type": "stream",
     "text": [
      "Naive Bayes Accuracy: 0.65\n",
      "              precision    recall  f1-score   support\n",
      "\n",
      "           0       0.54      0.88      0.67         8\n",
      "           1       0.86      0.50      0.63        12\n",
      "\n",
      "    accuracy                           0.65        20\n",
      "   macro avg       0.70      0.69      0.65        20\n",
      "weighted avg       0.73      0.65      0.65        20\n",
      "\n"
     ]
    }
   ],
   "source": [
    "from sklearn.naive_bayes import MultinomialNB\n",
    "\n",
    "nb_model = MultinomialNB()\n",
    "nb_model.fit(X_train_tfidf, y_train)\n",
    "\n",
    "y_pred_nb = nb_model.predict(X_test_tfidf)\n",
    "print(\"Naive Bayes Accuracy:\", accuracy_score(y_test, y_pred_nb))\n",
    "print(classification_report(y_test, y_pred_nb))\n"
   ]
  },
  {
   "cell_type": "code",
   "execution_count": 138,
   "id": "d9282d4f",
   "metadata": {},
   "outputs": [
    {
     "data": {
      "text/html": [
       "<div>\n",
       "<style scoped>\n",
       "    .dataframe tbody tr th:only-of-type {\n",
       "        vertical-align: middle;\n",
       "    }\n",
       "\n",
       "    .dataframe tbody tr th {\n",
       "        vertical-align: top;\n",
       "    }\n",
       "\n",
       "    .dataframe thead th {\n",
       "        text-align: right;\n",
       "    }\n",
       "</style>\n",
       "<table border=\"1\" class=\"dataframe\">\n",
       "  <thead>\n",
       "    <tr style=\"text-align: right;\">\n",
       "      <th></th>\n",
       "      <th>Date</th>\n",
       "      <th>Time</th>\n",
       "      <th>Name</th>\n",
       "      <th>Text</th>\n",
       "      <th>scores</th>\n",
       "      <th>compound</th>\n",
       "      <th>Negtive</th>\n",
       "      <th>Postive</th>\n",
       "      <th>Neutral</th>\n",
       "      <th>comp_score</th>\n",
       "      <th>Topic</th>\n",
       "    </tr>\n",
       "  </thead>\n",
       "  <tbody>\n",
       "    <tr>\n",
       "      <th>0</th>\n",
       "      <td>10/4/20</td>\n",
       "      <td>9:40 PM</td>\n",
       "      <td>Suganya tn</td>\n",
       "      <td>Is that yoga class good Femi</td>\n",
       "      <td>{'neg': 0.0, 'neu': 0.633, 'pos': 0.367, 'comp...</td>\n",
       "      <td>0.4404</td>\n",
       "      <td>0.0</td>\n",
       "      <td>0.367</td>\n",
       "      <td>0.633</td>\n",
       "      <td>pos</td>\n",
       "      <td>4</td>\n",
       "    </tr>\n",
       "    <tr>\n",
       "      <th>1</th>\n",
       "      <td>10/4/20</td>\n",
       "      <td>11:18 PM</td>\n",
       "      <td>Suganya tn</td>\n",
       "      <td>Preksha from jeeva parivardhanam yoga only u ...</td>\n",
       "      <td>{'neg': 0.0, 'neu': 1.0, 'pos': 0.0, 'compound...</td>\n",
       "      <td>0.0000</td>\n",
       "      <td>0.0</td>\n",
       "      <td>0.000</td>\n",
       "      <td>1.000</td>\n",
       "      <td>pos</td>\n",
       "      <td>4</td>\n",
       "    </tr>\n",
       "    <tr>\n",
       "      <th>2</th>\n",
       "      <td>10/5/20</td>\n",
       "      <td>5:31 AM</td>\n",
       "      <td>hameedfemina</td>\n",
       "      <td>89044 91142</td>\n",
       "      <td>{'neg': 0.0, 'neu': 1.0, 'pos': 0.0, 'compound...</td>\n",
       "      <td>0.0000</td>\n",
       "      <td>0.0</td>\n",
       "      <td>0.000</td>\n",
       "      <td>1.000</td>\n",
       "      <td>pos</td>\n",
       "      <td>0</td>\n",
       "    </tr>\n",
       "    <tr>\n",
       "      <th>3</th>\n",
       "      <td>10/5/20</td>\n",
       "      <td>5:32 AM</td>\n",
       "      <td>hameedfemina</td>\n",
       "      <td>This person name is Shashank</td>\n",
       "      <td>{'neg': 0.0, 'neu': 1.0, 'pos': 0.0, 'compound...</td>\n",
       "      <td>0.0000</td>\n",
       "      <td>0.0</td>\n",
       "      <td>0.000</td>\n",
       "      <td>1.000</td>\n",
       "      <td>pos</td>\n",
       "      <td>4</td>\n",
       "    </tr>\n",
       "    <tr>\n",
       "      <th>4</th>\n",
       "      <td>10/5/20</td>\n",
       "      <td>5:32 AM</td>\n",
       "      <td>hameedfemina</td>\n",
       "      <td>He s also one of the organizer</td>\n",
       "      <td>{'neg': 0.0, 'neu': 1.0, 'pos': 0.0, 'compound...</td>\n",
       "      <td>0.0000</td>\n",
       "      <td>0.0</td>\n",
       "      <td>0.000</td>\n",
       "      <td>1.000</td>\n",
       "      <td>pos</td>\n",
       "      <td>0</td>\n",
       "    </tr>\n",
       "  </tbody>\n",
       "</table>\n",
       "</div>"
      ],
      "text/plain": [
       "      Date        Time           Name  \\\n",
       "0  10/4/20    9:40 PM      Suganya tn   \n",
       "1  10/4/20   11:18 PM      Suganya tn   \n",
       "2  10/5/20    5:31 AM    hameedfemina   \n",
       "3  10/5/20    5:32 AM    hameedfemina   \n",
       "4  10/5/20    5:32 AM    hameedfemina   \n",
       "\n",
       "                                                Text  \\\n",
       "0                       Is that yoga class good Femi   \n",
       "1   Preksha from jeeva parivardhanam yoga only u ...   \n",
       "2                                        89044 91142   \n",
       "3                       This person name is Shashank   \n",
       "4                     He s also one of the organizer   \n",
       "\n",
       "                                              scores  compound  Negtive  \\\n",
       "0  {'neg': 0.0, 'neu': 0.633, 'pos': 0.367, 'comp...    0.4404      0.0   \n",
       "1  {'neg': 0.0, 'neu': 1.0, 'pos': 0.0, 'compound...    0.0000      0.0   \n",
       "2  {'neg': 0.0, 'neu': 1.0, 'pos': 0.0, 'compound...    0.0000      0.0   \n",
       "3  {'neg': 0.0, 'neu': 1.0, 'pos': 0.0, 'compound...    0.0000      0.0   \n",
       "4  {'neg': 0.0, 'neu': 1.0, 'pos': 0.0, 'compound...    0.0000      0.0   \n",
       "\n",
       "   Postive  Neutral comp_score  Topic  \n",
       "0    0.367    0.633        pos      4  \n",
       "1    0.000    1.000        pos      4  \n",
       "2    0.000    1.000        pos      0  \n",
       "3    0.000    1.000        pos      4  \n",
       "4    0.000    1.000        pos      0  "
      ]
     },
     "execution_count": 138,
     "metadata": {},
     "output_type": "execute_result"
    }
   ],
   "source": [
    "import pandas as pd\n",
    "\n",
    "# Example loading cleaned WhatsApp data\n",
    "\n",
    "chat_df= pd.read_csv(\"processed.csv\")\n",
    "\n",
    "# Preview\n",
    "chat_df.head()\n"
   ]
  },
  {
   "cell_type": "code",
   "execution_count": 141,
   "id": "c4012d9c",
   "metadata": {},
   "outputs": [
    {
     "name": "stdout",
     "output_type": "stream",
     "text": [
      "['Date', 'Time', 'Name', 'Text', 'scores', 'compound', 'Negtive', 'Postive', 'Neutral', 'comp_score', 'Topic', 'is_flirty']\n"
     ]
    }
   ],
   "source": [
    "print(chat_df.columns.tolist())\n"
   ]
  },
  {
   "cell_type": "code",
   "execution_count": 139,
   "id": "edd3672e",
   "metadata": {},
   "outputs": [],
   "source": [
    "# Apply flirt prediction\n",
    "chat_df['is_flirty'] = nb_model.predict(vectorizer.transform(chat_df['Text']))\n"
   ]
  },
  {
   "cell_type": "code",
   "execution_count": 127,
   "id": "b4255d92",
   "metadata": {},
   "outputs": [
    {
     "data": {
      "text/plain": [
       "<Axes: title={'center': 'Message Count by Sender'}, xlabel='Name', ylabel='Text'>"
      ]
     },
     "execution_count": 127,
     "metadata": {},
     "output_type": "execute_result"
    },
    {
     "data": {
      "image/png": "[encoded data removed]",
      "text/plain": [
       "<Figure size 640x480 with 1 Axes>"
      ]
     },
     "metadata": {},
     "output_type": "display_data"
    }
   ],
   "source": [
    "# Talkative vs Less Talkative\n",
    "msg_counts = chat_df['Name'].value_counts()\n",
    "msg_counts.plot(kind='bar', title='Message Count by Sender', ylabel='Text')\n"
   ]
  },
  {
   "cell_type": "code",
   "execution_count": 128,
   "id": "a82f0719",
   "metadata": {},
   "outputs": [
    {
     "data": {
      "text/html": [
       "<div>\n",
       "<style scoped>\n",
       "    .dataframe tbody tr th:only-of-type {\n",
       "        vertical-align: middle;\n",
       "    }\n",
       "\n",
       "    .dataframe tbody tr th {\n",
       "        vertical-align: top;\n",
       "    }\n",
       "\n",
       "    .dataframe thead th {\n",
       "        text-align: right;\n",
       "    }\n",
       "</style>\n",
       "<table border=\"1\" class=\"dataframe\">\n",
       "  <thead>\n",
       "    <tr style=\"text-align: right;\">\n",
       "      <th></th>\n",
       "      <th>Date</th>\n",
       "      <th>Time</th>\n",
       "      <th>Name</th>\n",
       "      <th>Text</th>\n",
       "      <th>scores</th>\n",
       "      <th>compound</th>\n",
       "      <th>Negtive</th>\n",
       "      <th>Postive</th>\n",
       "      <th>Neutral</th>\n",
       "      <th>comp_score</th>\n",
       "      <th>Topic</th>\n",
       "      <th>is_flirty</th>\n",
       "    </tr>\n",
       "  </thead>\n",
       "  <tbody>\n",
       "  </tbody>\n",
       "</table>\n",
       "</div>"
      ],
      "text/plain": [
       "Empty DataFrame\n",
       "Columns: [Date, Time, Name, Text, scores, compound, Negtive, Postive, Neutral, comp_score, Topic, is_flirty]\n",
       "Index: []"
      ]
     },
     "execution_count": 128,
     "metadata": {},
     "output_type": "execute_result"
    }
   ],
   "source": [
    "#Missed Calls\n",
    "missed_calls = chat_df[chat_df['Text'].str.contains('missed call', case=False, na=False)]\n",
    "missed_calls\n"
   ]
  },
  {
   "cell_type": "code",
   "execution_count": 129,
   "id": "91e5f746",
   "metadata": {},
   "outputs": [
    {
     "data": {
      "text/plain": [
       "Name\n",
       "hameedfemina    11\n",
       "Name: count, dtype: int64"
      ]
     },
     "execution_count": 129,
     "metadata": {},
     "output_type": "execute_result"
    }
   ],
   "source": [
    "#Media Count per Person\n",
    "media_df = chat_df[chat_df['Text'].str.contains('Media omitted', na=False)]\n",
    "media_count = media_df['Name'].value_counts()\n",
    "media_count\n"
   ]
  },
  {
   "cell_type": "code",
   "execution_count": 145,
   "id": "d42c6479",
   "metadata": {},
   "outputs": [
    {
     "name": "stderr",
     "output_type": "stream",
     "text": [
      "C:\\Users\\argka\\AppData\\Local\\Temp\\ipykernel_23528\\611283891.py:1: UserWarning: Could not infer format, so each element will be parsed individually, falling back to `dateutil`. To ensure parsing is consistent and as-expected, please specify a format.\n",
      "  chat_df['datetime'] = pd.to_datetime(chat_df['Date'] + ' ' + chat_df['Time'], errors='coerce')\n"
     ]
    }
   ],
   "source": [
    "chat_df['datetime'] = pd.to_datetime(chat_df['Date'] + ' ' + chat_df['Time'], errors='coerce')\n"
   ]
  },
  {
   "cell_type": "code",
   "execution_count": 144,
   "id": "d72dda59",
   "metadata": {},
   "outputs": [
    {
     "name": "stdout",
     "output_type": "stream",
     "text": [
      "['Date', 'Time', 'Name', 'Text', 'scores', 'compound', 'Negtive', 'Postive', 'Neutral', 'comp_score', 'Topic', 'is_flirty']\n"
     ]
    }
   ],
   "source": [
    "print(chat_df.columns.tolist())"
   ]
  },
  {
   "cell_type": "code",
   "execution_count": 146,
   "id": "2ccba02b",
   "metadata": {},
   "outputs": [],
   "source": [
    "chat_df['day'] = chat_df['datetime'].dt.date  # for most active **date**\n",
    "chat_df['hour'] = chat_df['datetime'].dt.hour  # for most active **hour**\n"
   ]
  },
  {
   "cell_type": "code",
   "execution_count": 147,
   "id": "6034ea80",
   "metadata": {},
   "outputs": [
    {
     "name": "stdout",
     "output_type": "stream",
     "text": [
      "📅 Most Active Date: 2021-05-08\n"
     ]
    }
   ],
   "source": [
    "most_active_date = chat_df['day'].value_counts().idxmax()\n",
    "print(\"📅 Most Active Date:\", most_active_date)\n"
   ]
  },
  {
   "cell_type": "code",
   "execution_count": 149,
   "id": "8881eebb",
   "metadata": {},
   "outputs": [
    {
     "data": {
      "image/png": "[encoded data removed]",
      "text/plain": [
       "<Figure size 1000x400 with 1 Axes>"
      ]
     },
     "metadata": {},
     "output_type": "display_data"
    }
   ],
   "source": [
    "import matplotlib.pyplot as plt\n",
    "import seaborn as sns\n",
    "\n",
    "# Daily Activity\n",
    "chat_df['day'].value_counts().sort_index().plot(kind='bar', figsize=(10, 4), title='Messages per Date')\n",
    "plt.xlabel('Date')\n",
    "plt.ylabel('Message Count')\n",
    "plt.xticks(rotation=45)\n",
    "plt.show()\n",
    "\n"
   ]
  },
  {
   "cell_type": "code",
   "execution_count": 152,
   "id": "c41f4346",
   "metadata": {},
   "outputs": [
    {
     "data": {
      "image/png": "[encoded data removed]",
      "text/plain": [
       "<Figure size 640x480 with 1 Axes>"
      ]
     },
     "metadata": {},
     "output_type": "display_data"
    }
   ],
   "source": [
    "# Hourly Activity\n",
    "sns.countplot(x='hour', data=chat_df)\n",
    "\n",
    "plt.title('Messages by Hour')\n",
    "plt.xlabel('Hour of Day')\n",
    "plt.ylabel('Message Count')\n",
    "plt.show()"
   ]
  },
  {
   "cell_type": "code",
   "execution_count": null,
   "id": "e13430bd",
   "metadata": {},
   "outputs": [],
   "source": []
  }
 ],
 "metadata": {
  "kernelspec": {
   "display_name": "Python 3 (ipykernel)",
   "language": "python",
   "name": "python3"
  },
  "language_info": {
   "codemirror_mode": {
    "name": "ipython",
    "version": 3
   },
   "file_extension": ".py",
   "mimetype": "text/x-python",
   "name": "python",
   "nbconvert_exporter": "python",
   "pygments_lexer": "ipython3",
   "version": "3.10.13"
  }
 },
 "nbformat": 4,
 "nbformat_minor": 5
}

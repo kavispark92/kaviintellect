{
 "cells": [
  {
   "cell_type": "code",
   "execution_count": 36,
   "id": "5895f643-4220-4db6-9895-f288ec7a4004",
   "metadata": {},
   "outputs": [],
   "source": [
    "import pandas as pd\n",
    "import numpy as np\n",
    "import time\n",
    "from sklearn.preprocessing import StandardScaler\n",
    "import pickle\n"
   ]
  },
  {
   "cell_type": "code",
   "execution_count": 38,
   "id": "9efc9e86-5bba-44b8-b48b-48a6f9aca4b1",
   "metadata": {},
   "outputs": [],
   "source": [
    "dataset=pd.read_csv(\"Wine.csv\")\n",
    "X=dataset.iloc[:,0:13].values\n",
    "Y=dataset.iloc[:,13].values"
   ]
  },
  {
   "cell_type": "code",
   "execution_count": 40,
   "id": "6de36899-9786-4e90-9f85-e246f860e209",
   "metadata": {},
   "outputs": [],
   "source": [
    "def split_scaler(X,Y):\n",
    "    \n",
    "    from sklearn.model_selection import train_test_split\n",
    "    from sklearn.preprocessing import StandardScaler\n",
    "    X_train,X_test,Y_train,Y_test=train_test_split(X,Y,random_state=0,test_size=0.25)\n",
    "    sc= StandardScaler()\n",
    "    X_train=sc.fit_transform( X_train)\n",
    "    X_test=sc.transform(X_test)\n",
    "    return X_train,X_test,Y_train,Y_test"
   ]
  },
  {
   "cell_type": "code",
   "execution_count": 42,
   "id": "3f731d1d-6838-40b4-94cc-625a3d89b769",
   "metadata": {},
   "outputs": [],
   "source": [
    "from sklearn.decomposition import PCA\n",
    "from sklearn.model_selection import train_test_split\n",
    "\n",
    "def princi_com(X, Y, n):\n",
    "    X_train, X_test, Y_train, Y_test = train_test_split(X, Y, test_size=0.2, random_state=42)  # Split data\n",
    "    pca = PCA(n_components=n)\n",
    "    X_train_pca = pca.fit_transform(X_train)  # Apply PCA to the training set\n",
    "    X_test_pca = pca.transform(X_test)       # Transform the test set\n",
    "    explained_variance = pca.explained_variance_ratio_\n",
    "    return X_train_pca, X_test_pca, explained_variance\n"
   ]
  },
  {
   "cell_type": "code",
   "execution_count": 44,
   "id": "5cb28bff-28c8-44c4-a0b9-71d9b2a6fd52",
   "metadata": {},
   "outputs": [],
   "source": [
    "def cm_prediction(classifier,X_test):\n",
    "    y_pred=classifier.predict(X_test)\n",
    "    from sklearn.metrics import confusion_matrix\n",
    "    cm=confusion_matrix(y_pred,Y_test)\n",
    "    from sklearn.metrics import classification_report\n",
    "    clf_report = classification_report(y_pred,Y_test)\n",
    "    from sklearn.metrics import accuracy_score \n",
    "    Accuracy=accuracy_score(y_test, y_pred )\n",
    "    return classifier,clf_report,cm,Accuracy"
   ]
  },
  {
   "cell_type": "code",
   "execution_count": 46,
   "id": "e2b338c1-4fd6-4a6c-9f15-722e89deda09",
   "metadata": {},
   "outputs": [],
   "source": [
    "def logistic(X_train,y_train,X_test):  \n",
    "    from sklearn.linear_model import LogisticRegression\n",
    "    classifier=LogisticRegression(random_state=0)\n",
    "    classifier.fit(X_train,Y_train)\n",
    "    clf_report,cm=cm_prediction(classifier,X_test)\n",
    "    from sklearn.metrics import accuracy_score \n",
    "    Accuracy=accuracy_score(y_test, y_pred )\n",
    "    return classifier,clf_report,cm,Accuracy\n",
    "    "
   ]
  },
  {
   "cell_type": "code",
   "execution_count": 48,
   "id": "9e733d20-f812-4345-a342-6e2b776aee28",
   "metadata": {},
   "outputs": [],
   "source": [
    "def KNN(X_train,y_train,X_test):  \n",
    "    from sklearn.neighbors import KNeighborsClassifier\n",
    "    classifier=KNeighborsClassifier(n_neighbors=5,metric='minkowski',p=2)\n",
    "    classifier.fit(X_train,Y_train)\n",
    "    clf_report,cm=cm_prediction(classifier,X_test)\n",
    "    from sklearn.metrics import accuracy_score \n",
    "    Accuracy=accuracy_score(y_test, y_pred )\n",
    "    return classifier,clf_report,cm,Accuracy"
   ]
  },
  {
   "cell_type": "code",
   "execution_count": 50,
   "id": "66c18099-a72b-4d28-9294-d907b81f9377",
   "metadata": {},
   "outputs": [],
   "source": [
    "def decision(X_train,y_train,X_test):\n",
    "    from sklearn.tree import DecisionTreeClassifier\n",
    "    DTC=DecisionTreeClassifier()\n",
    "    classifier.fit(X_train,Y_train)\n",
    "    clf_report,cm=cm_prediction(classifier,X_test)\n",
    "    from sklearn.metrics import accuracy_score \n",
    "    Accuracy=accuracy_score(y_test, y_pred )\n",
    "    return classifier,clf_report,cm,Accuracy"
   ]
  },
  {
   "cell_type": "code",
   "execution_count": 52,
   "id": "bb5db251-4700-4fcb-ac36-c5f99c947129",
   "metadata": {},
   "outputs": [],
   "source": [
    "def PCA_Classification(acclog,acctree,accknn): \n",
    "    \n",
    "    dataframe=pd.DataFrame(index=['report'],columns=['Logistic','KNN','decision'])\n",
    "    for number,idex in enumerate(dataframe.index):      \n",
    "        dataframe['Logistic'][idex]=acclog[number]       \n",
    "        dataframe['KNN'][idex]=accknn[number]\n",
    "        dataframe['Decision'][idex]=acctree[number]"
   ]
  },
  {
   "cell_type": "code",
   "execution_count": 54,
   "id": "32a8701f-648d-4be1-afb5-0838bc84dc86",
   "metadata": {},
   "outputs": [
    {
     "ename": "NameError",
     "evalue": "name 'split_scalar' is not defined",
     "output_type": "error",
     "traceback": [
      "\u001b[1;31m---------------------------------------------------------------------------\u001b[0m",
      "\u001b[1;31mNameError\u001b[0m                                 Traceback (most recent call last)",
      "Cell \u001b[1;32mIn[54], line 10\u001b[0m\n\u001b[0;32m      6\u001b[0m \u001b[38;5;28;01mfrom\u001b[39;00m \u001b[38;5;21;01msklearn\u001b[39;00m\u001b[38;5;21;01m.\u001b[39;00m\u001b[38;5;21;01mpreprocessing\u001b[39;00m \u001b[38;5;28;01mimport\u001b[39;00m StandardScaler\n\u001b[0;32m      8\u001b[0m \u001b[38;5;28;01mfor\u001b[39;00m i \u001b[38;5;129;01min\u001b[39;00m princi:\n\u001b[1;32m---> 10\u001b[0m     X_train, X_test, y_train, y_test\u001b[38;5;241m=\u001b[39msplit_scalar(i,Y)\n\u001b[0;32m     14\u001b[0m     classifier,clf_report,cm,X_test,y_test\u001b[38;5;241m=\u001b[39mlogistic(X_train,y_train,X_test)\n\u001b[0;32m     15\u001b[0m     acclog\u001b[38;5;241m.\u001b[39mappend(Accuracy)\n",
      "\u001b[1;31mNameError\u001b[0m: name 'split_scalar' is not defined"
     ]
    }
   ],
   "source": [
    "princi=princi_com(X,Y,2)       \n",
    "acclog=[]\n",
    "accknn=[]\n",
    "acctree=[]\n",
    "from sklearn.model_selection import train_test_split\n",
    "from sklearn.preprocessing import StandardScaler\n",
    "\n",
    "for i in princi:\n",
    "    \n",
    "    X_train, X_test, y_train, y_test=split_scalar(i,Y)\n",
    " \n",
    "    \n",
    "        \n",
    "    classifier,clf_report,cm,X_test,y_test=logistic(X_train,y_train,X_test)\n",
    "    acclog.append(Accuracy)\n",
    "    \n",
    "    classifier,clf_report,cm,X_test,y_test=knn(X_train,y_train,X_test)  \n",
    "    accknn.append(Accuracy)\n",
    "        \n",
    "    \n",
    "    classifier,clf_report,cm,X_test,y_test=decision(X_train,y_train,X_test)  \n",
    "    acctree.append(Accuracy)\n",
    "    \n",
    "\n",
    "result=PCA_Classification(acclog,accknn,acctree)\n",
    "\n",
    "result"
   ]
  },
  {
   "cell_type": "code",
   "execution_count": null,
   "id": "bf4d5423-6083-45b4-9021-134c0f47a956",
   "metadata": {},
   "outputs": [],
   "source": []
  }
 ],
 "metadata": {
  "kernelspec": {
   "display_name": "Python [conda env:base] *",
   "language": "python",
   "name": "conda-base-py"
  },
  "language_info": {
   "codemirror_mode": {
    "name": "ipython",
    "version": 3
   },
   "file_extension": ".py",
   "mimetype": "text/x-python",
   "name": "python",
   "nbconvert_exporter": "python",
   "pygments_lexer": "ipython3",
   "version": "3.12.7"
  }
 },
 "nbformat": 4,
 "nbformat_minor": 5
}

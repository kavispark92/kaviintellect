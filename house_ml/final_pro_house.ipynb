{
 "cells": [
  {
   "cell_type": "code",
   "execution_count": 37,
   "id": "85b3fab4-2ac1-4988-bdca-23f98be0bbbf",
   "metadata": {},
   "outputs": [
    {
     "name": "stdout",
     "output_type": "stream",
     "text": [
      "Selected Features: ['total_sqft', 'bath']\n",
      "Random Forest\n",
      "RandomForestRegressor(random_state=30)\n",
      "The best model is Random Forest with an R2 score of 0.55.\n"
     ]
    }
   ],
   "source": [
    "import pandas as pd\n",
    "import numpy as np\n",
    "from sklearn.model_selection import train_test_split\n",
    "from sklearn.preprocessing import StandardScaler\n",
    "from sklearn.feature_selection import SelectKBest, f_regression\n",
    "from sklearn.linear_model import LinearRegression\n",
    "from sklearn.svm import SVR\n",
    "from sklearn.tree import DecisionTreeRegressor\n",
    "from sklearn.ensemble import RandomForestRegressor\n",
    "from sklearn.metrics import r2_score\n",
    "\n",
    "# Load dataset\n",
    "dataset1 = pd.read_csv(\"preprocessed_price.csv\", index_col=None)\n",
    "df2 = dataset1\n",
    "\n",
    "# Encode categorical variables\n",
    "df2 = pd.get_dummies(df2, drop_first=True)\n",
    "\n",
    "# Feature and target separation\n",
    "X = df2.drop('price', axis=1)\n",
    "Y = df2['price']\n",
    "\n",
    "# Select top k features\n",
    "def selectkbest(X, Y, n):\n",
    "    selector = SelectKBest(score_func=f_regression, k=n)\n",
    "    X_new = selector.fit_transform(X, Y)\n",
    "    selected_features = X.columns[selector.get_support()]\n",
    "    print(\"Selected Features:\", selected_features.tolist())\n",
    "    return X_new\n",
    "\n",
    "# Splitting and scaling data\n",
    "def split_scalar(X, Y):\n",
    "    X_train, X_test, y_train, y_test = train_test_split(X, Y, test_size=0.2, random_state=42)\n",
    "    scaler = StandardScaler()\n",
    "    X_train = scaler.fit_transform(X_train)\n",
    "    X_test = scaler.transform(X_test)\n",
    "    return X_train, X_test, y_train, y_test\n",
    "\n",
    "# Train and return R2 score for each model\n",
    "def train_model(model, X_train, y_train, X_test):\n",
    "    model.fit(X_train, y_train)\n",
    "    y_pred = model.predict(X_test)\n",
    "    return r2_score(y_test, y_pred), model\n",
    "\n",
    "# Select top 2 features\n",
    "kbest = selectkbest(X, Y, 2)\n",
    "# Split data\n",
    "X_train, X_test, y_train, y_test = split_scalar(kbest, Y)\n",
    "\n",
    "# Train models and collect results\n",
    "models = {\n",
    "    \"Linear Regression\": LinearRegression(),\n",
    "    \"SVM Linear\": SVR(kernel='poly'),\n",
    "    \"SVM Non-Linear\": SVR(kernel='rbf'),\n",
    "    \"Decision Tree\": DecisionTreeRegressor(random_state=30),\n",
    "    \"Random Forest\": RandomForestRegressor(random_state=30, n_estimators=100)\n",
    "}\n",
    "\n",
    "results = {}\n",
    "trained_models = {}\n",
    "\n",
    "for name, model in models.items():\n",
    "    r2, trained_model = train_model(model, X_train, y_train, X_test)\n",
    "    results[name] = r2\n",
    "    trained_models[name] = trained_model\n",
    "\n",
    "# Find the best model\n",
    "best_model_name = max(results, key=results.get)\n",
    "print(best_model_name)\n",
    "best_model = trained_models[best_model_name]\n",
    "print(best_model)\n",
    "\n",
    "print(f\"The best model is {best_model_name} with an R2 score of {results[best_model_name]:.2f}.\")\n",
    "\n",
    "# Prediction example\n",
    "#input_data = [1,419]  # Replace with the actual input for the model\n",
    "#input_numpy_array = np.asarray(input_data)\n",
    "#reshape = input_numpy_array.reshape(1, -1)\n",
    "\n",
    "#prediction = best_model.predict(reshape)\n",
    "#print(f\"The predicted price is: {prediction[0]:.2f}\")\n"
   ]
  },
  {
   "cell_type": "code",
   "execution_count": 39,
   "id": "94a8b871-f745-4702-ad0e-2003a5274ccc",
   "metadata": {},
   "outputs": [],
   "source": [
    "import pickle"
   ]
  },
  {
   "cell_type": "code",
   "execution_count": 40,
   "id": "fe172c7e-3a68-44c2-9471-5c1911734cc5",
   "metadata": {},
   "outputs": [],
   "source": [
    "filename=\"final_model.sav\""
   ]
  },
  {
   "cell_type": "code",
   "execution_count": 41,
   "id": "f3802cc8-c327-4d53-9be9-8518fec2ed65",
   "metadata": {},
   "outputs": [],
   "source": [
    "pickle.dump(model,open(filename,'wb'))"
   ]
  },
  {
   "cell_type": "code",
   "execution_count": 42,
   "id": "ca5a238d-29da-4073-91f4-3ed2f3878f8c",
   "metadata": {},
   "outputs": [],
   "source": [
    "loaded_model=pickle.load(open(\"final_model.sav\",'rb'))"
   ]
  },
  {
   "cell_type": "code",
   "execution_count": 43,
   "id": "e88e218b-cdf9-4c8c-8dbc-6aad0bc154b0",
   "metadata": {},
   "outputs": [],
   "source": [
    "result=loaded_model.predict([[2600,5]])"
   ]
  },
  {
   "cell_type": "code",
   "execution_count": 44,
   "id": "63e60dd4-d6cc-4885-a208-2d2264ff5bdf",
   "metadata": {},
   "outputs": [
    {
     "name": "stdout",
     "output_type": "stream",
     "text": [
      "[684.8]\n"
     ]
    }
   ],
   "source": [
    "print(result)"
   ]
  },
  {
   "cell_type": "code",
   "execution_count": null,
   "id": "c0c81a10-4147-4043-9e59-e19099c87d0f",
   "metadata": {},
   "outputs": [],
   "source": []
  }
 ],
 "metadata": {
  "kernelspec": {
   "display_name": "Python 3 (ipykernel)",
   "language": "python",
   "name": "python3"
  },
  "language_info": {
   "codemirror_mode": {
    "name": "ipython",
    "version": 3
   },
   "file_extension": ".py",
   "mimetype": "text/x-python",
   "name": "python",
   "nbconvert_exporter": "python",
   "pygments_lexer": "ipython3",
   "version": "3.11.5"
  }
 },
 "nbformat": 4,
 "nbformat_minor": 5
}

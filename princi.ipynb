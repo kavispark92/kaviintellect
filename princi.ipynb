{
 "cells": [
  {
   "cell_type": "code",
   "execution_count": 36,
   "id": "5895f643-4220-4db6-9895-f288ec7a4004",
   "metadata": {},
   "outputs": [],
   "source": [
    "import pandas as pd\n",
    "import numpy as np\n",
    "import time\n",
    "from sklearn.preprocessing import StandardScaler\n",
    "import pickle\n"
   ]
  },
  {
   "cell_type": "code",
   "execution_count": 38,
   "id": "9efc9e86-5bba-44b8-b48b-48a6f9aca4b1",
   "metadata": {},
   "outputs": [],
   "source": [
    "dataset=pd.read_csv(\"Wine.csv\")\n",
    "X=dataset.iloc[:,0:13].values\n",
    "Y=dataset.iloc[:,13].values"
   ]
  },
  {
   "cell_type": "code",
   "execution_count": 40,
   "id": "6de36899-9786-4e90-9f85-e246f860e209",
   "metadata": {},
   "outputs": [],
   "source": [
    "def split_scaler(X,Y):\n",
    "    \n",
    "    from sklearn.model_selection import train_test_split\n",
    "    from sklearn.preprocessing import StandardScaler\n",
    "    X_train,X_test,Y_train,Y_test=train_test_split(X,Y,random_state=0,test_size=0.25)\n",
    "    sc= StandardScaler()\n",
    "    X_train=sc.fit_transform( X_train)\n",
    "    X_test=sc.transform(X_test)\n",
    "    return X_train,X_test,Y_train,Y_test"
   ]
  },
  {
   "cell_type": "code",
   "execution_count": 42,
   "id": "3f731d1d-6838-40b4-94cc-625a3d89b769",
   "metadata": {},
   "outputs": [],
   "source": [
    "from sklearn.decomposition import PCA\n",
    "from sklearn.model_selection import train_test_split\n",
    "\n",
    "def princi_com(X, Y, n):\n",
    "    X_train, X_test, Y_train, Y_test = train_test_split(X, Y, test_size=0.2, random_state=42)  # Split data\n",
    "    pca = PCA(n_components=n)\n",
    "    X_train_pca = pca.fit_transform(X_train)  # Apply PCA to the training set\n",
    "    X_test_pca = pca.transform(X_test)       # Transform the test set\n",
    "    explained_variance = pca.explained_variance_ratio_\n",
    "    return X_train_pca, X_test_pca, explained_variance\n"
   ]
  },
  {
   "cell_type": "code",
   "execution_count": null,
   "id": "5cb28bff-28c8-44c4-a0b9-71d9b2a6fd52",
   "metadata": {},
   "outputs": [],
   "source": []
  }
 ],
 "metadata": {
  "kernelspec": {
   "display_name": "Python [conda env:base] *",
   "language": "python",
   "name": "conda-base-py"
  },
  "language_info": {
   "codemirror_mode": {
    "name": "ipython",
    "version": 3
   },
   "file_extension": ".py",
   "mimetype": "text/x-python",
   "name": "python",
   "nbconvert_exporter": "python",
   "pygments_lexer": "ipython3",
   "version": "3.12.7"
  }
 },
 "nbformat": 4,
 "nbformat_minor": 5
}
